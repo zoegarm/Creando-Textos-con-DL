{
  "nbformat": 4,
  "nbformat_minor": 0,
  "metadata": {
    "colab": {
      "name": "Proyecto_LSTM_DL.ipynb",
      "provenance": [],
      "collapsed_sections": [
        "qMcDHWS6QzHm",
        "nledMcOUvxB-",
        "NhpTKYWkYSKN",
        "hfHOYhauSlDi"
      ],
      "include_colab_link": true
    },
    "kernelspec": {
      "name": "python3",
      "display_name": "Python 3"
    },
    "language_info": {
      "name": "python"
    }
  },
  "cells": [
    {
      "cell_type": "markdown",
      "metadata": {
        "id": "view-in-github",
        "colab_type": "text"
      },
      "source": [
        "<a href=\"https://colab.research.google.com/github/zoegarm/Creando-Textos-con-DL/blob/main/Proyecto_LSTM_DL.ipynb\" target=\"_parent\"><img src=\"https://colab.research.google.com/assets/colab-badge.svg\" alt=\"Open In Colab\"/></a>"
      ]
    },
    {
      "cell_type": "markdown",
      "metadata": {
        "id": "VFFF7DD3YY40"
      },
      "source": [
        "# LSTM: \n",
        "\n",
        "\n",
        "3. Separación de los datos (seleccionar un porcentaje para cada conjunto: train, validation y test)\n",
        "\n",
        "    ``\n",
        "    Aquí explico por qué no tengo qué separar datos... \n",
        "    ``\n",
        "\n",
        "6. Comentario: explicar porqué se obtuvieron esos resultados\n",
        "\n",
        "    ``\n",
        "    Aquí explico mis resultados :) \n",
        "    ``\n"
      ]
    },
    {
      "cell_type": "markdown",
      "metadata": {
        "id": "odWu1AVm8PN2"
      },
      "source": [
        "## La importancia de predecir una secuencia:\n",
        "\n",
        "### Objetivo: \n",
        "\n",
        "El objetivo de mi máquia es poder **generar** nuevos textos a partir de un estilo dado, en mi caso el estilo está dado por novelas de Juan Rulfo, conocido por su novela Pedro Páramo y El Llano en Llamas. \n",
        "\n",
        "Mi máquina tiene un solo objetivo y es aprender la forma en que dado una oración digamos '`si algún\\t`' pueda predecir el siguiente caracter de la secuencia, de manera muy burda ejemplifiquemos esto con la siguiente línea: \n",
        "\n",
        "`si algún d` \n",
        "\n",
        "y posteriormente \n",
        "`si algún dí` \n",
        "\n",
        "hasta finalizar con \n",
        "\n",
        "`si algún día`.\n",
        "\n",
        "La salida que tenemos es en consecuencia una sentencia de palabras que tiene (o no) coherencia. Esta dependerá de \n",
        "\n",
        "1. Las épocas de entrenamiento del algoritmo.\n",
        "2. La temperatura con la cuál se realizan las predicciones. \n",
        "3. La limpieza de los datos o inputs, con los cuales se entrena la red.\n",
        "\n",
        "Los datos fueron recopilados a partir de las siguientes página: https://albalearning.com y https://www.literatura.us/ , las cuales cuentan con un gran acervo de cuentos, poemas y novelas cortas de diversos autores.\n"
      ]
    },
    {
      "cell_type": "code",
      "metadata": {
        "id": "sAtIRjaiinIx"
      },
      "source": [
        "import tensorflow as tf\n",
        "\n",
        "\n",
        "import tensorflow as tf\n",
        "from tensorflow import keras\n",
        "from tensorflow.keras.models import Sequential\n",
        "from tensorflow.keras.layers import Dense, BatchNormalization\n",
        "from tensorflow.keras.layers import Input, Flatten, LSTM, Dropout\n",
        "from tensorflow.keras.callbacks import ModelCheckpoint, LearningRateScheduler\n",
        "from tensorflow.keras.callbacks import EarlyStopping\n",
        "\n",
        "\n",
        "from tensorflow.keras.utils import plot_model\n",
        "\n",
        "import numpy as np\n",
        "import os\n",
        "\n",
        "import numpy as np\n",
        "import random\n",
        "import matplotlib.pyplot as plt\n",
        "import seaborn as sns\n",
        "import pandas as pd\n",
        "\n",
        "\n",
        "from time import time \n",
        "\n",
        "sns.set_style('darkgrid')"
      ],
      "execution_count": 1,
      "outputs": []
    },
    {
      "cell_type": "markdown",
      "metadata": {
        "id": "ri4MhqWw8bVM"
      },
      "source": [
        "## Análisis de Datos: \n",
        "\n",
        "En esta parte analizo los datos con los que cuento y hago un conteo de palabras por cada elemento. :) "
      ]
    },
    {
      "cell_type": "markdown",
      "metadata": {
        "id": "QPowmatOYnQ3"
      },
      "source": [
        "### Importo mis datos"
      ]
    },
    {
      "cell_type": "code",
      "metadata": {
        "colab": {
          "base_uri": "https://localhost:8080/"
        },
        "id": "B-kdjAY1iqnx",
        "outputId": "558a223b-4976-445d-f0f5-5551cee84804"
      },
      "source": [
        "from google.colab import drive\n",
        "drive.mount('/content/drive')\n",
        "\n",
        "import io\n",
        "\n",
        "path = '/content/drive/MyDrive/TSFCI/Juan Rulfo.txt'\n",
        "with io.open(path, encoding='utf-8') as f:\n",
        "    text = f.read().lower()\n",
        "print(len(text))"
      ],
      "execution_count": 23,
      "outputs": [
        {
          "output_type": "stream",
          "text": [
            "Drive already mounted at /content/drive; to attempt to forcibly remount, call drive.mount(\"/content/drive\", force_remount=True).\n",
            "310999\n"
          ],
          "name": "stdout"
        }
      ]
    },
    {
      "cell_type": "code",
      "metadata": {
        "colab": {
          "base_uri": "https://localhost:8080/",
          "height": 72
        },
        "id": "mziiczl2MDxe",
        "outputId": "460ea228-5eb1-45f0-a49f-c8718d4064cc"
      },
      "source": [
        "text[0:500]"
      ],
      "execution_count": 24,
      "outputs": [
        {
          "output_type": "execute_result",
          "data": {
            "application/vnd.google.colaboratory.intrinsic+json": {
              "type": "string"
            },
            "text/plain": [
              "'en corazón de maría vivían, no hace mucho tiempo, un padre y un hijo conocidos como los eremites; si acaso, porque los dos se llamaban euremios. uno, euremio cedillo; otro, euremio cedillo también, aunque no costaba ningún trabajo distinguirlos, ya que uno le sacaba al otro una ventaja de veinticinco años bien colmados.\\n         lo colmado estaba en lo alto y garrudo de que lo había dotado la benevolencia de dios nuestro señor al euremio grande. en cambio al chico lo había hecho todo alrevesado,'"
            ]
          },
          "metadata": {
            "tags": []
          },
          "execution_count": 24
        }
      ]
    },
    {
      "cell_type": "markdown",
      "metadata": {
        "id": "ZXMnLzhwYq8R"
      },
      "source": [
        "Hago un análisis rápido:"
      ]
    },
    {
      "cell_type": "code",
      "metadata": {
        "colab": {
          "base_uri": "https://localhost:8080/"
        },
        "id": "iZKaQqDVYlU1",
        "outputId": "ae12aaf2-7e0f-4c62-f4b1-c47d1ddc8477"
      },
      "source": [
        "from nltk.util import ngrams\n",
        "import re\n",
        "import nltk\n",
        "from nltk.corpus import stopwords\n",
        "\n",
        "nltk.download('punkt')\n",
        "nltk.download('stopwords')"
      ],
      "execution_count": 25,
      "outputs": [
        {
          "output_type": "stream",
          "text": [
            "[nltk_data] Downloading package punkt to /root/nltk_data...\n",
            "[nltk_data]   Package punkt is already up-to-date!\n",
            "[nltk_data] Downloading package stopwords to /root/nltk_data...\n",
            "[nltk_data]   Package stopwords is already up-to-date!\n"
          ],
          "name": "stdout"
        },
        {
          "output_type": "execute_result",
          "data": {
            "text/plain": [
              "True"
            ]
          },
          "metadata": {
            "tags": []
          },
          "execution_count": 25
        }
      ]
    },
    {
      "cell_type": "code",
      "metadata": {
        "id": "wnFwABQVZKXJ",
        "colab": {
          "base_uri": "https://localhost:8080/"
        },
        "outputId": "63b25441-2bcd-4b36-af12-eed0e4bdcea4"
      },
      "source": [
        "#los limpio para el análisis: \n",
        "\n",
        "#con split no me devuelve el número de espacios ni tampoco los saltos de línea\n",
        "#me veo forzado a usar comprensión de lista: \n",
        "\n",
        "text_copy = text\n",
        "\n",
        "analisis = [i for i in text]\n",
        "palabras = text_copy.split()\n",
        "\n",
        "freq_dist_charact = nltk.FreqDist(text_copy)\n",
        "\n",
        "print('los carácteres más comunes son: ', freq_dist_charact.most_common(5))\n",
        "\n",
        "freq_dist_words = nltk.FreqDist(palabras)\n",
        "\n",
        "print('las palabras más comunes son: ', freq_dist_words.most_common(5))\n"
      ],
      "execution_count": 26,
      "outputs": [
        {
          "output_type": "stream",
          "text": [
            "los carácteres más comunes son:  [(' ', 67125), ('a', 30034), ('e', 29896), ('o', 22401), ('s', 17496)]\n",
            "las palabras más comunes son:  [('de', 2331), ('que', 2215), ('y', 1655), ('la', 1551), ('a', 1418)]\n"
          ],
          "name": "stdout"
        }
      ]
    },
    {
      "cell_type": "code",
      "metadata": {
        "id": "5MxEtB1Qg7er"
      },
      "source": [
        "#analizamos el conteo sin palabras conectoras: \n",
        "\n",
        "#quito los conectores o stopwords: \n",
        "\n",
        "spanish_stop_words = stopwords.words('spanish')\n",
        "\n",
        "all_words_except_stop_words = [word for word in palabras if word not in spanish_stop_words]\n",
        "\n",
        "#filtro las palabras:\n",
        "freq_dist_no_stop = nltk.FreqDist(all_words_except_stop_words)"
      ],
      "execution_count": 27,
      "outputs": []
    },
    {
      "cell_type": "markdown",
      "metadata": {
        "id": "m4g8mcJo5MJG"
      },
      "source": [
        "Número de palabras y Número de carácteres"
      ]
    },
    {
      "cell_type": "code",
      "metadata": {
        "colab": {
          "base_uri": "https://localhost:8080/"
        },
        "id": "yyE5zcruhIIz",
        "outputId": "a1ec7932-2db6-4d90-e08f-e4bf2353a5f5"
      },
      "source": [
        "#imprimamos las palabras más comunes y el total de palabras: \n",
        "print('palabras más comunes: ',freq_dist_no_stop.most_common(10))\n",
        "print(f'total de palabras: {len(freq_dist_no_stop)}')\n",
        "\n",
        "#contemos el número de carácteres en el texto: \n",
        "chars = sorted(list(set(text_copy)))\n",
        "print('total chars:', len(chars))"
      ],
      "execution_count": 28,
      "outputs": [
        {
          "output_type": "stream",
          "text": [
            "palabras más comunes:  [('si', 329), ('allí', 145), ('.', 123), ('ahora', 106), ('vez', 105), ('aquí', 102), ('así', 101), ('allá', 100), ('después', 98), ('luego', 97)]\n",
            "total de palabras: 10202\n",
            "total chars: 59\n"
          ],
          "name": "stdout"
        }
      ]
    },
    {
      "cell_type": "code",
      "metadata": {
        "colab": {
          "base_uri": "https://localhost:8080/",
          "height": 636
        },
        "id": "G2jdeZFhiqBX",
        "outputId": "7b63936a-c06d-455a-f187-d4cd2907d169"
      },
      "source": [
        "#creo una visualización de las palabras más comunes: \n",
        "\n",
        "most_common_20 = np.array(list(map(lambda x: list(x), freq_dist_no_stop.most_common(20))))\n",
        "\n",
        "fig = plt.figure(figsize=(15,10))\n",
        "ax = fig.add_subplot()\n",
        "\n",
        "sns.barplot(y = most_common_20[:, 0], x = (most_common_20[:, 1]).astype(int), ax=ax, palette='RdYlBu', orient = 'h');\n",
        "ax.set_title('Frecuencia de las 20 palabras más comunes', pad=10)\n",
        "ax.set_xlabel('Total de veces que aparece una palabra')\n",
        "ax.tick_params(axis='x', rotation=80)\n",
        "\n",
        "plt.show()"
      ],
      "execution_count": 29,
      "outputs": [
        {
          "output_type": "display_data",
          "data": {
            "image/png": "[encoded data removed]",
            "text/plain": [
              "<Figure size 1080x720 with 1 Axes>"
            ]
          },
          "metadata": {
            "tags": []
          }
        }
      ]
    },
    {
      "cell_type": "code",
      "metadata": {
        "colab": {
          "base_uri": "https://localhost:8080/",
          "height": 648
        },
        "id": "Q0lSRmv1jC_E",
        "outputId": "5f5ec0f2-0aa8-41b9-e82c-7c6761688a5d"
      },
      "source": [
        "#Creo una visualización de los caracteres más comunes: \n",
        "\n",
        "most_common_20 = np.array(list(map(lambda x: list(x), freq_dist_charact.most_common(20))))\n",
        "\n",
        "fig = plt.figure(figsize=(15,10))\n",
        "ax = fig.add_subplot()\n",
        "\n",
        "sns.barplot(y = most_common_20[:, 0], x = (most_common_20[:, 1]).astype(int), ax=ax, palette='RdYlBu', orient = 'h');\n",
        "ax.set_title('Frecuencia de los 20 carácteres más comunes', pad=10)\n",
        "ax.set_xlabel('Conteo')\n",
        "ax.tick_params(axis='x', rotation=80)\n",
        "\n",
        "plt.show()"
      ],
      "execution_count": 30,
      "outputs": [
        {
          "output_type": "display_data",
          "data": {
            "image/png": "[encoded data removed]",
            "text/plain": [
              "<Figure size 1080x720 with 1 Axes>"
            ]
          },
          "metadata": {
            "tags": []
          }
        }
      ]
    },
    {
      "cell_type": "markdown",
      "metadata": {
        "id": "JwdDJjCpjniR"
      },
      "source": [
        "Como podemos ver en mi texto hay muchos carácteres de \"espacios\", entonces podría ser buena idea remover los saltos de línea para mejorar las predicciones, por ejemplo. Yo sé esto porque yo mismo recopilé la información, pero hacer el análisis me confirma que sí debo quitarlos para mejorar el modelo. Recordemos que el modelo predice tan bien como aprende. Yo tengo el conocimiento de que este conteo tan grande en ese caracter es debido a la naturaleza de la fuente de los datos. "
      ]
    },
    {
      "cell_type": "markdown",
      "metadata": {
        "id": "knKTjAc9vpMp"
      },
      "source": [
        "### Limpieza de Datos"
      ]
    },
    {
      "cell_type": "code",
      "metadata": {
        "colab": {
          "base_uri": "https://localhost:8080/",
          "height": 109
        },
        "id": "_L8jytsui57k",
        "outputId": "85935286-9d9f-41a8-b6f6-6ccc2f079910"
      },
      "source": [
        "#Primero quito los saltos, luego divido por carácter y luego dropeo los nan\n",
        "text_copy_2 = pd.Series(text_copy).str.replace('\\n', '').str.split().dropna().sum()\n",
        "\n",
        "#junto los datos con un conector de espacio\n",
        "text_copy_2 = ' '.join(text_copy_2)\n",
        "\n",
        "text_copy = text_copy_2\n",
        "\n",
        "#obtengo mi data limpia :)\n",
        "print('la longitud del texto ahora es de', len(text_copy))\n",
        "print('muestra: \\n')\n",
        "text_copy[0:400]"
      ],
      "execution_count": 31,
      "outputs": [
        {
          "output_type": "stream",
          "text": [
            "la longitud del texto ahora es de 297225\n",
            "muestra: \n",
            "\n"
          ],
          "name": "stdout"
        },
        {
          "output_type": "execute_result",
          "data": {
            "application/vnd.google.colaboratory.intrinsic+json": {
              "type": "string"
            },
            "text/plain": [
              "'en corazón de maría vivían, no hace mucho tiempo, un padre y un hijo conocidos como los eremites; si acaso, porque los dos se llamaban euremios. uno, euremio cedillo; otro, euremio cedillo también, aunque no costaba ningún trabajo distinguirlos, ya que uno le sacaba al otro una ventaja de veinticinco años bien colmados. lo colmado estaba en lo alto y garrudo de que lo había dotado la benevolencia '"
            ]
          },
          "metadata": {
            "tags": []
          },
          "execution_count": 31
        }
      ]
    },
    {
      "cell_type": "code",
      "metadata": {
        "colab": {
          "base_uri": "https://localhost:8080/"
        },
        "id": "SyUp3KHjv9m3",
        "outputId": "ed738d5b-cf37-422a-c9e4-03c99fce3f7c"
      },
      "source": [
        "len(text_copy)"
      ],
      "execution_count": 32,
      "outputs": [
        {
          "output_type": "execute_result",
          "data": {
            "text/plain": [
              "297225"
            ]
          },
          "metadata": {
            "tags": []
          },
          "execution_count": 32
        }
      ]
    },
    {
      "cell_type": "code",
      "metadata": {
        "colab": {
          "base_uri": "https://localhost:8080/"
        },
        "id": "ylgHPAVGuWZS",
        "outputId": "31eed065-ef03-4048-bdff-4ae2f48a6520"
      },
      "source": [
        "#analizo nuevamente: \n",
        "\n",
        "analisis = [i for i in text_copy]\n",
        "palabras = text_copy.split()\n",
        "\n",
        "freq_dist_charact = nltk.FreqDist(text_copy)\n",
        "\n",
        "print('los carácteres más comunes son: ', freq_dist_charact.most_common(5))\n",
        "\n",
        "freq_dist_words = nltk.FreqDist(palabras)\n",
        "\n",
        "print('las palabras más comunes son: ', freq_dist_words.most_common(5))"
      ],
      "execution_count": 33,
      "outputs": [
        {
          "output_type": "stream",
          "text": [
            "los carácteres más comunes son:  [(' ', 55152), ('a', 30034), ('e', 29896), ('o', 22401), ('s', 17496)]\n",
            "las palabras más comunes son:  [('de', 2329), ('que', 2215), ('y', 1655), ('la', 1551), ('a', 1418)]\n"
          ],
          "name": "stdout"
        }
      ]
    },
    {
      "cell_type": "code",
      "metadata": {
        "colab": {
          "base_uri": "https://localhost:8080/",
          "height": 648
        },
        "id": "LklHMMnUvKwM",
        "outputId": "972e193d-5c9f-4ad2-ea34-adde86a15e6e"
      },
      "source": [
        "#Creo una visualización de los caracteres más comunes: \n",
        "\n",
        "most_common_20 = np.array(list(map(lambda x: list(x), freq_dist_charact.most_common(5))))\n",
        "\n",
        "fig = plt.figure(figsize=(15,10))\n",
        "ax = fig.add_subplot()\n",
        "\n",
        "sns.barplot(y = most_common_20[:, 0], x = (most_common_20[:, 1]).astype(int), ax=ax, palette='RdYlBu', orient = 'h');\n",
        "ax.set_title('Frecuencia de los 5 carácteres más comunes', pad=10)\n",
        "ax.set_xlabel('Conteo')\n",
        "ax.tick_params(axis='x', rotation=80)\n",
        "\n",
        "plt.show()"
      ],
      "execution_count": 34,
      "outputs": [
        {
          "output_type": "display_data",
          "data": {
            "image/png": "[encoded data removed]",
            "text/plain": [
              "<Figure size 1080x720 with 1 Axes>"
            ]
          },
          "metadata": {
            "tags": []
          }
        }
      ]
    },
    {
      "cell_type": "markdown",
      "metadata": {
        "id": "tdpXIAEluvC2"
      },
      "source": [
        "Podemos ver que el procesamiento me quitó 11973 carácteres de espacios, lo que puede mejorar significativamente el aprendizaje de mi máquina. "
      ]
    },
    {
      "cell_type": "markdown",
      "metadata": {
        "id": "qMcDHWS6QzHm"
      },
      "source": [
        "## Separación de los Datos\n",
        "\n",
        "En mi caso voy a entrenar con **letras**. Sí, con letras. Esto es debido a que tengo un total de 10202 palabras diferentes contenidas en el texto (incluyendo algunos símbolos de puntuación que se colaron). Si quisiera entrenar con esa cantidad de datos, tendría que elegir una cantidad aún mayor de datos, que en mi caso son novelas, para poder entrenar bien mi modelo. Además, dado que intento predecir secuencias, dada una palabra con índice `k` tendría que encontrar las $10202 - k$ posibles combinaciones en que esa palabra puede estar asociada a otras.\n",
        "\n",
        "De forma semejante, si lo hago para el caso de los carácteres en mi texto, solo tengo $58$ carácteres distintos a través de los cuales se pretenden construir palabras y también oraciones completas. \n",
        "\n",
        "Este es el precio a pagar, al menos desde mi punto de vista, ya que aunque el algoritmo aprenda la secuencia para reproducir palabras en secuencia, estas dificilmente puedrán tener sentido o gozar, por otro lado de riqueza contextual."
      ]
    },
    {
      "cell_type": "code",
      "metadata": {
        "id": "OTbTxMqY_FKl"
      },
      "source": [
        "text = text_copy"
      ],
      "execution_count": 40,
      "outputs": []
    },
    {
      "cell_type": "code",
      "metadata": {
        "colab": {
          "base_uri": "https://localhost:8080/"
        },
        "id": "V6YWH5bCitUt",
        "outputId": "ae657389-9652-4491-e38e-214651c4b540"
      },
      "source": [
        "#Hago diccionarios útiles para mis datos \n",
        "chars = sorted(list(set(text)))\n",
        "print('total chars:', len(chars))\n",
        "char_indices = dict((c, i) for i, c in enumerate(chars)) #diccionario de caracter a indice\n",
        "indices_char = dict((i, c) for i, c in enumerate(chars)) #de indice a caracter"
      ],
      "execution_count": 41,
      "outputs": [
        {
          "output_type": "stream",
          "text": [
            "total chars: 58\n"
          ],
          "name": "stdout"
        }
      ]
    },
    {
      "cell_type": "code",
      "metadata": {
        "id": "27I29OmZi8N_"
      },
      "source": [
        "sentences = []\n",
        "next_chars = []\n",
        "for i in range(0, len(text) - 40, 3):\n",
        "    sentences.append(text[i: i + 40]) #listas de longitud 40\n",
        "    next_chars.append(text[i + 40])   #lista del siguiente caracter en la lista\n",
        "\n",
        "# otra version de one hot encoding con bool:\n",
        "x = np.zeros((len(sentences), 40, len(chars)), dtype=np.int)\n",
        "y = np.zeros((len(sentences), len(chars)), dtype=np.int)\n",
        "for i, sentence in enumerate(sentences):\n",
        "    for t, char in enumerate(sentence):\n",
        "        x[i, t, char_indices[char]] = 1       #lista que tiene el índice de la sentencia, el índice de caracter en la sentencia y el índice del caracter en el diccionario\n",
        "    y[i, char_indices[next_chars[i]]] = 1   #lista con índice de sentencia en el diccionario con respecto al siguiente caracter"
      ],
      "execution_count": 42,
      "outputs": []
    },
    {
      "cell_type": "markdown",
      "metadata": {
        "id": "nledMcOUvxB-"
      },
      "source": [
        "## Definición de Arquitectura:\n",
        "\n",
        "\n",
        "En esta parte defino el modelo que uso y explico por qué uso ese modelo. Además afino hiperparámetros a través de un muestreo rándom y finalmente doy la arquitectura que usaré para resolver el problema. Primero explico qué es una red RNN, posteriormente una LSTM. "
      ]
    },
    {
      "cell_type": "markdown",
      "metadata": {
        "id": "A3DLLRZXup2s"
      },
      "source": [
        "### LSTM: ¿Qué es? \n",
        "\n",
        "Antes de explicar esta red primero debo comenzar con otra que es muy similar a esta, llamada **RNN** o **Recurent Neural Network**. Que son redes que tienen dos entradas, el dato actual y el estado oculto anterior, además proporcionan dos salidas, la predicción y la actualización del estado oculto $a$. Entonces analiza las entradas $x, a$ y realiza una predicción $y$. \n",
        "\n",
        "De forma matemática: \n",
        "\n",
        "$$\n",
        "  f(x, a_{t-1}) \\rightarrow (y, a_t)\n",
        "$$\n",
        "\n",
        "$$\n",
        "  a_t=f\\left(W_t,a_{t−1},x_n\\right)\n",
        "$$\n",
        "\n",
        "De forma algorítmica: \n",
        "\n",
        "```\n",
        "   x = a and h = 0\n",
        "   f(x,h) = (a,next_hidden)\n",
        "   prev_hidden = next_hidden\n",
        "\n",
        "   x = a and h = prev_hidden\n",
        "   f(x,h) = (b,next_hidden)\n",
        "   prev_hidden = next_hidden\n",
        "\n",
        "   x = b and h = prev_hidden\n",
        "   f(x,h) = (c,next_hidden)\n",
        "   prev_hidden = next_hidden\n",
        "\n",
        "```\n",
        "\n",
        "Esto significa que a un paso $t+k$ nuestro estado oculto se desvanece  $a_{t+k} \\rightarrow 0$ o aumenta como loca $a_{t+k} \\rightarrow \\infty$, dependiendo de la función $f$, con la cuál es evaluada. \n",
        "\n",
        "En el caso de los algoritmos convencionales se usa $tanh$ para evaluar, esto resulta en que las **RNN** tengan una memoria corta. \n",
        "\n",
        "Esto se soluciona con las redes LSTM que están diseñadas para poder cargar 2 estados de actualización, uno oculto $a$ y otro llamado **estado de celda** $c$. \n",
        "\n",
        "Esquemáticamente: \n",
        "\n",
        "\n",
        "<img src = 'https://upload.wikimedia.org/wikipedia/commons/thumb/1/17/The_LSTM_Cell.svg/1024px-The_LSTM_Cell.svg.png' width='500px'>\n",
        "\n"
      ]
    },
    {
      "cell_type": "markdown",
      "metadata": {
        "id": "6Fkbpy7qRhn5"
      },
      "source": [
        "### El modelo"
      ]
    },
    {
      "cell_type": "code",
      "metadata": {
        "id": "ly1jkLYFuvOe"
      },
      "source": [
        "learning_rate = 0.01\n",
        "opt = keras.optimizers.RMSprop(lr=learning_rate)\n",
        "\n",
        "model_save = ModelCheckpoint('best_model.hdf5', save_best_only = True)\n",
        "early_stopping = EarlyStopping(monitor = 'loss', patience= 5)\n",
        "\n",
        "#Creates a model given an optimitation function and learning rate\n",
        "def create_model(learning_rate, opt = opt, drop = 0.0):\n",
        "  \n",
        "  model = Sequential()\n",
        "  model.add(LSTM(128, input_shape=(40, len(chars))))#, return_sequences=True))\n",
        "  \n",
        "  model.add(BatchNormalization()) #extra\n",
        "  model.add(Dropout(drop)) #extra\n",
        "\n",
        "  model.add(Dense(len(chars), activation='softmax'))\n",
        "\n",
        "  model.compile(loss='categorical_crossentropy', optimizer=opt, metrics = ['accuracy'])\n",
        "\n",
        "  return model"
      ],
      "execution_count": 50,
      "outputs": []
    },
    {
      "cell_type": "markdown",
      "metadata": {
        "id": "ZoTf8lCWPyaa"
      },
      "source": [
        "### Afinando hiperparámetros\n",
        "\n",
        "Aclaraciones, aunque intenté hacer la elección del muestreo con un for me di cuenta de que ocupa mucha memoria ram, así como también lo hace usar un muestreo k-folds, así que me tuve que ver forzado a hacerlo a mano.\n",
        "\n",
        "Como sabemos, elegir hiperparámetros adecuados con el método \"grid\" es muy tardado, así que eligiré el mejor de 5 testeos rándom. \n",
        "\n",
        "https://analyticsindiamag.com/why-is-random-search-better-than-grid-search-for-machine-learning/"
      ]
    },
    {
      "cell_type": "markdown",
      "metadata": {
        "id": "LLhdPfPrOKNt"
      },
      "source": [
        "````python\n",
        "#Creo listas para mi adhición de capas y neuronas:\n",
        "nl_list = [i for i in range(1, 10)]\n",
        "nn_list = [i**2 for i in range(1, 10)]\n",
        "list_drop = np.linspace(0, 0.1, 10)\n",
        "\n",
        "random_loss = {}\n",
        "\n",
        "for i in range(0, 2):\n",
        "  random_nl = random.choice(nl_list)\n",
        "  random_nn = random.choice(nn_list)\n",
        "  random_drop = random.choice(list_drop)\n",
        "\n",
        "  print()\n",
        "\n",
        "  tic = time()\n",
        "\n",
        "  random_model = create_model(0.01, opt = opt, add = True,\n",
        "                              nl = random_nl, nn=random_nl, drop=random_drop)\n",
        "  \n",
        "  h_random = random_model.fit(x, y, batch_size=random_batch, epochs=5)\n",
        "  \n",
        "  toc = time()\n",
        "  tiempo = toc - tic \n",
        "\n",
        "  random_loss[i] = [h_random, tiempo, random_nl, random_nn, random_drop]\n",
        "````"
      ]
    },
    {
      "cell_type": "markdown",
      "metadata": {
        "id": "wkJdkvRCOiw1"
      },
      "source": [
        "\n",
        "\n",
        "```python\n",
        "#Creo listas para mi adhición de capas y neuronas:\n",
        "\n",
        "nl_list = [i for i in range(1, 10)]\n",
        "nn_list = [i**2 for i in range(1, 10)]\n",
        "list_drop = np.linspace(0, 0.1, 10)\n",
        "\n",
        "random_loss = {}\n",
        "\n",
        "for i in range(0, 2):\n",
        "  random_nl = random.choice(nl_list)\n",
        "  random_nn = random.choice(nn_list)\n",
        "  random_drop = random.choice(list_drop)\n",
        "\n",
        "  print()\n",
        "\n",
        "  tic = time()\n",
        "\n",
        "  random_model = create_model(0.01, opt = opt, add = True,\n",
        "                              nl = random_nl, nn=random_nl, drop=random_drop)\n",
        "  \n",
        "  h_random = random_model.fit(x, y, batch_size=random_batch, epochs=5)\n",
        "  \n",
        "  toc = time()\n",
        "  tiempo = toc - tic \n",
        "\n",
        "  random_loss[i] = [h_random, tiempo, random_nl, random_nn, random_drop]\n",
        "\n",
        "```\n",
        "\n"
      ]
    },
    {
      "cell_type": "markdown",
      "metadata": {
        "id": "quuJJSw1Q_qU"
      },
      "source": [
        "\n",
        "\n",
        "```python\n",
        "save = pd.DataFrame(random_loss)\n",
        "save = save.T\n",
        "\n",
        "plt.figure(figsize=(16, 8))\n",
        "\n",
        "for i in range(len(save)):\n",
        "  plt.plot(save[0][i].history['loss'], label = f't: {save[1][i]:.2f} seg, drop out: {save[2][i]:.3f}')\n",
        "  plt.legend()\n",
        "\n",
        "plt.xlabel('Epoch', fontsize = 16)\n",
        "plt.ylabel('Cost', fontsize = 16)\n",
        "plt.title('Cost vs Epoch: No Layers', fontsize = 20)\n",
        "\n",
        "plt.legend(fontsize = 15)\n",
        "\n",
        "plt.savefig('loss_vs_e_4_opt.png')\n",
        "```\n",
        "\n"
      ]
    },
    {
      "cell_type": "markdown",
      "metadata": {
        "id": "VxIFgg6xO39p"
      },
      "source": [
        "\n",
        "\n",
        "```python\n",
        "### Creo una lista de los hiperparámetros que voy a usar para afinar mi modelo: \n",
        "\n",
        "## opt_list: lista de optimizers (reducen la función de costo)\n",
        "opt_list = [tf.keras.optimizers.Adamax(lr=learning_rate), keras.optimizers.RMSprop(lr=learning_rate)]\n",
        "## lr_list: lista de learning rate: step size at each iteration while moving toward a minimum of a loss function\n",
        "lr_list = [0.1, 0.01, 0.001]\n",
        "## lr_batch: lista de batchs: la forma en la que se da la información de entrenamiento\n",
        "lr_batch = [2**i for i in range(6, 10)]\n",
        "\n",
        "\n",
        "random_loss = {}\n",
        "\n",
        "for i in range(0,10):\n",
        "\n",
        "  random_opt = random.choice(opt_list)\n",
        "  random_lr = random.choice(lr_list)\n",
        "  random_batch = random.choice(lr_batch) \n",
        "  \n",
        "  tic = time()\n",
        "\n",
        "  random_model = create_model(random_lr, random_opt)\n",
        "  h_random = random_model.fit(x, y, batch_size=random_batch, epochs=5)\n",
        "  \n",
        "  toc = time()\n",
        "  tiempo = toc - tic \n",
        "  \n",
        "  random_loss[i] = [h_random, random_opt, random_lr, random_batch, tiempo]\n",
        "\n",
        "save = pd.DataFrame(random_loss)\n",
        "\n",
        "for i in range(0,10):\n",
        "  save[i][0] = random_loss[i][0].history['loss']\n",
        "\n",
        "save = save.T.rename(columns={0:'loss', 1:'opt', 2:'lr', 3:'batch', 4:'tiempo'})\n",
        "save.to_csv('random_loss_7.csv')\n",
        "```\n",
        "\n"
      ]
    },
    {
      "cell_type": "code",
      "metadata": {
        "colab": {
          "base_uri": "https://localhost:8080/",
          "height": 206
        },
        "id": "SvP4IMiUSfIo",
        "outputId": "5791f402-08c3-4d8b-b784-acd07cafb3fb"
      },
      "source": [
        "# Analizamos los resultados de 70 corridas: \n",
        "import warnings\n",
        "warnings.filterwarnings(\"ignore\")\n",
        "\n",
        "import ast\n",
        "\n",
        "dic_df = {}\n",
        "\n",
        "for i in range(0,7):\n",
        "  ls_read = pd.read_csv(f'https://raw.githubusercontent.com/zoegarm/Creando-Textos-con-DL/main/hyperparameter_tuning/random_loss_{i+1}.csv', index_col=0)\n",
        "  dic_df[i] = ls_read\n",
        "\n",
        "ls_loss = pd.concat(dic_df, ignore_index=True)\n",
        "\n",
        "\n",
        "for i in range(len(ls_loss)):\n",
        "  ls_loss.loss[i] = min(ast.literal_eval(ls_loss.loss[i]))\n",
        "\n",
        "\n",
        "ls_loss = ls_loss.sort_values(['loss','tiempo'], ascending=True)\n",
        "\n",
        "ls_loss.head()"
      ],
      "execution_count": 51,
      "outputs": [
        {
          "output_type": "execute_result",
          "data": {
            "text/html": [
              "<div>\n",
              "<style scoped>\n",
              "    .dataframe tbody tr th:only-of-type {\n",
              "        vertical-align: middle;\n",
              "    }\n",
              "\n",
              "    .dataframe tbody tr th {\n",
              "        vertical-align: top;\n",
              "    }\n",
              "\n",
              "    .dataframe thead th {\n",
              "        text-align: right;\n",
              "    }\n",
              "</style>\n",
              "<table border=\"1\" class=\"dataframe\">\n",
              "  <thead>\n",
              "    <tr style=\"text-align: right;\">\n",
              "      <th></th>\n",
              "      <th>loss</th>\n",
              "      <th>opt</th>\n",
              "      <th>lr</th>\n",
              "      <th>batch</th>\n",
              "      <th>tiempo</th>\n",
              "    </tr>\n",
              "  </thead>\n",
              "  <tbody>\n",
              "    <tr>\n",
              "      <th>0</th>\n",
              "      <td>1.77136</td>\n",
              "      <td>&lt;tensorflow.python.keras.optimizer_v2.rmsprop....</td>\n",
              "      <td>0.01</td>\n",
              "      <td>256</td>\n",
              "      <td>43.829839</td>\n",
              "    </tr>\n",
              "    <tr>\n",
              "      <th>60</th>\n",
              "      <td>1.77915</td>\n",
              "      <td>&lt;tensorflow.python.keras.optimizer_v2.rmsprop....</td>\n",
              "      <td>0.01</td>\n",
              "      <td>256</td>\n",
              "      <td>53.925647</td>\n",
              "    </tr>\n",
              "    <tr>\n",
              "      <th>26</th>\n",
              "      <td>1.77982</td>\n",
              "      <td>&lt;tensorflow.python.keras.optimizer_v2.rmsprop....</td>\n",
              "      <td>0.01</td>\n",
              "      <td>256</td>\n",
              "      <td>31.875779</td>\n",
              "    </tr>\n",
              "    <tr>\n",
              "      <th>51</th>\n",
              "      <td>1.78066</td>\n",
              "      <td>&lt;tensorflow.python.keras.optimizer_v2.rmsprop....</td>\n",
              "      <td>0.10</td>\n",
              "      <td>256</td>\n",
              "      <td>84.090773</td>\n",
              "    </tr>\n",
              "    <tr>\n",
              "      <th>35</th>\n",
              "      <td>1.78073</td>\n",
              "      <td>&lt;tensorflow.python.keras.optimizer_v2.adam.Ada...</td>\n",
              "      <td>0.01</td>\n",
              "      <td>128</td>\n",
              "      <td>45.080011</td>\n",
              "    </tr>\n",
              "  </tbody>\n",
              "</table>\n",
              "</div>"
            ],
            "text/plain": [
              "       loss  ...     tiempo\n",
              "0   1.77136  ...  43.829839\n",
              "60  1.77915  ...  53.925647\n",
              "26  1.77982  ...  31.875779\n",
              "51  1.78066  ...  84.090773\n",
              "35  1.78073  ...  45.080011\n",
              "\n",
              "[5 rows x 5 columns]"
            ]
          },
          "metadata": {
            "tags": []
          },
          "execution_count": 51
        }
      ]
    },
    {
      "cell_type": "markdown",
      "metadata": {
        "id": "XD6od3Qs4yZ5"
      },
      "source": [
        "Drop Out \n",
        "```python\n",
        "#Afino el dropout: \n",
        "\n",
        "list_drop = np.linspace(0, 0.1, 10)\n",
        "loss = {}\n",
        "\n",
        "for i in range(len(list_drop)):\n",
        "  \n",
        "  tic = time()\n",
        "\n",
        "  random_model = create_model(0.01, opt=opt, drop=list_drop[i])\n",
        "  h = random_model.fit(x, y, batch_size=256, epochs=10)\n",
        "  \n",
        "  toc = time()\n",
        "  tiempo = toc - tic \n",
        "  \n",
        "  loss[i] = [h, tiempo, list_drop[i]]\n",
        "\n",
        "save = pd.DataFrame(loss)\n",
        "save = save.T\n",
        "\n",
        "plt.figure(figsize=(16, 8))\n",
        "\n",
        "for i in range(len(save)):\n",
        "  plt.plot(save[0][i].history['loss'], label = f'drop out: {round(save[2][i], 3)}')\n",
        "  plt.legend()\n",
        "\n",
        "plt.xlabel('Epoch')\n",
        "plt.ylabel('Cost')\n",
        "plt.title('Cost vs Epoch: No Layers')\n",
        "\n",
        "plt.savefig('loss_vs_e_1.png')\n",
        "```\n",
        "\n",
        "incluir Cost vs Epoch: No layers (primera imágen)\n"
      ]
    },
    {
      "cell_type": "markdown",
      "metadata": {
        "id": "RGhjmegRPLnv"
      },
      "source": [
        "***los mejores hiperparámetros resultan ser el optimizador RMSprop con learning rate de 0.01, con un batch de 0, y ninguna capa extra (ya sea LSTM o multilayer) con respecto al modelo original. ***"
      ]
    },
    {
      "cell_type": "markdown",
      "metadata": {
        "id": "YSJVSdzMP6rH"
      },
      "source": [
        "### Creando el modelo óptimo: "
      ]
    },
    {
      "cell_type": "code",
      "metadata": {
        "id": "KsLfZmdD-zz0"
      },
      "source": [
        "model = create_model(0.01, opt=opt, drop = 0)"
      ],
      "execution_count": 68,
      "outputs": []
    },
    {
      "cell_type": "code",
      "metadata": {
        "colab": {
          "base_uri": "https://localhost:8080/",
          "height": 533
        },
        "id": "WTpu6bb-jCLi",
        "outputId": "b8194ec9-786f-4963-a6d9-f32310e1c91b"
      },
      "source": [
        "plot_model(model, show_shapes=True, expand_nested=True, show_layer_names=True)"
      ],
      "execution_count": 69,
      "outputs": [
        {
          "output_type": "execute_result",
          "data": {
            "image/png": "[encoded data removed]",
            "text/plain": [
              "<IPython.core.display.Image object>"
            ]
          },
          "metadata": {
            "tags": []
          },
          "execution_count": 69
        }
      ]
    },
    {
      "cell_type": "markdown",
      "metadata": {
        "id": "NhpTKYWkYSKN"
      },
      "source": [
        "## Entrenando y haciendo predicciones: \n",
        "\n",
        "En esta parte muestro el entrenamiento realizado por mi modelo y posteriormente hago predicciones con respecto a una semilla aleatoria en el texto. Notemos que en principio puede ser cualquier semilla, siempre y cuando esta tenga una longitud de $N$ caracterés dados, que es con los que se realizó el entrenamiento. "
      ]
    },
    {
      "cell_type": "code",
      "metadata": {
        "id": "uoTunVAvjDm6"
      },
      "source": [
        "def sample(preds, temperature=1.0):\n",
        "    preds = np.asarray(preds).astype('float64')\n",
        "    preds = np.log(preds) / temperature\n",
        "    exp_preds = np.exp(preds)\n",
        "    preds = exp_preds / np.sum(exp_preds)\n",
        "    probas = np.random.multinomial(1, preds, 1)\n",
        "    return np.argmax(probas)"
      ],
      "execution_count": 70,
      "outputs": []
    },
    {
      "cell_type": "code",
      "metadata": {
        "id": "LinYeziyFqc1"
      },
      "source": [
        "#Algunos híperparámetros: \n",
        "epochs = 100 #Este hiperparámetro mejora la coherencia del texto obtenido\n",
        "batch_size = 256 #Tamaño óptimo del batch size\n",
        "\n",
        "maxlen = 40 #longitud de los carácteres con los que entrenamos\n",
        "output_len = 400 #salida máxima del texto, se puede modificar son problemas\n",
        "temperatura = 0.7 #hiperparámetro que -filtra- la señal de las predicciones una vez realizadas"
      ],
      "execution_count": 94,
      "outputs": []
    },
    {
      "cell_type": "code",
      "metadata": {
        "colab": {
          "base_uri": "https://localhost:8080/"
        },
        "id": "1I40_6CiCSiA",
        "outputId": "61628af2-2472-4c14-e0da-373671aeb7d8"
      },
      "source": [
        "#entrenamiento\n",
        "h_call = model.fit(x, y, batch_size=batch_size, epochs=epochs,\n",
        "                   callbacks = [early_stopping])"
      ],
      "execution_count": 72,
      "outputs": [
        {
          "output_type": "stream",
          "text": [
            "Epoch 1/100\n",
            "387/387 [==============================] - 5s 9ms/step - loss: 2.1141 - accuracy: 0.3505\n",
            "Epoch 2/100\n",
            "387/387 [==============================] - 4s 9ms/step - loss: 1.8356 - accuracy: 0.4268\n",
            "Epoch 3/100\n",
            "387/387 [==============================] - 4s 9ms/step - loss: 1.6629 - accuracy: 0.4811\n",
            "Epoch 4/100\n",
            "387/387 [==============================] - 4s 9ms/step - loss: 1.5605 - accuracy: 0.5109\n",
            "Epoch 5/100\n",
            "387/387 [==============================] - 4s 9ms/step - loss: 1.4853 - accuracy: 0.5330\n",
            "Epoch 6/100\n",
            "387/387 [==============================] - 4s 9ms/step - loss: 1.4298 - accuracy: 0.5488\n",
            "Epoch 7/100\n",
            "387/387 [==============================] - 4s 9ms/step - loss: 1.3785 - accuracy: 0.5639\n",
            "Epoch 8/100\n",
            "387/387 [==============================] - 4s 9ms/step - loss: 1.3375 - accuracy: 0.5753\n",
            "Epoch 9/100\n",
            "387/387 [==============================] - 3s 9ms/step - loss: 1.3010 - accuracy: 0.5865\n",
            "Epoch 10/100\n",
            "387/387 [==============================] - 3s 9ms/step - loss: 1.2674 - accuracy: 0.5964\n",
            "Epoch 11/100\n",
            "387/387 [==============================] - 3s 9ms/step - loss: 1.2388 - accuracy: 0.6049\n",
            "Epoch 12/100\n",
            "387/387 [==============================] - 3s 9ms/step - loss: 1.2141 - accuracy: 0.6129\n",
            "Epoch 13/100\n",
            "387/387 [==============================] - 3s 9ms/step - loss: 1.1885 - accuracy: 0.6177\n",
            "Epoch 14/100\n",
            "387/387 [==============================] - 3s 9ms/step - loss: 1.1695 - accuracy: 0.6244\n",
            "Epoch 15/100\n",
            "387/387 [==============================] - 3s 9ms/step - loss: 1.1526 - accuracy: 0.6303\n",
            "Epoch 16/100\n",
            "387/387 [==============================] - 3s 9ms/step - loss: 1.1359 - accuracy: 0.6345\n",
            "Epoch 17/100\n",
            "387/387 [==============================] - 3s 9ms/step - loss: 1.1215 - accuracy: 0.6385\n",
            "Epoch 18/100\n",
            "387/387 [==============================] - 4s 9ms/step - loss: 1.1096 - accuracy: 0.6422\n",
            "Epoch 19/100\n",
            "387/387 [==============================] - 3s 9ms/step - loss: 1.0963 - accuracy: 0.6457\n",
            "Epoch 20/100\n",
            "387/387 [==============================] - 3s 9ms/step - loss: 1.0842 - accuracy: 0.6484\n",
            "Epoch 21/100\n",
            "387/387 [==============================] - 4s 10ms/step - loss: 1.0748 - accuracy: 0.6531\n",
            "Epoch 22/100\n",
            "387/387 [==============================] - 4s 10ms/step - loss: 1.0637 - accuracy: 0.6561\n",
            "Epoch 23/100\n",
            "387/387 [==============================] - 4s 9ms/step - loss: 1.0584 - accuracy: 0.6574\n",
            "Epoch 24/100\n",
            "387/387 [==============================] - 4s 10ms/step - loss: 1.0501 - accuracy: 0.6584\n",
            "Epoch 25/100\n",
            "387/387 [==============================] - 4s 9ms/step - loss: 1.0394 - accuracy: 0.6635\n",
            "Epoch 26/100\n",
            "387/387 [==============================] - 4s 9ms/step - loss: 1.0336 - accuracy: 0.6657\n",
            "Epoch 27/100\n",
            "387/387 [==============================] - 4s 9ms/step - loss: 1.0236 - accuracy: 0.6668\n",
            "Epoch 28/100\n",
            "387/387 [==============================] - 3s 9ms/step - loss: 1.0210 - accuracy: 0.6685\n",
            "Epoch 29/100\n",
            "387/387 [==============================] - 3s 9ms/step - loss: 1.0119 - accuracy: 0.6715\n",
            "Epoch 30/100\n",
            "387/387 [==============================] - 3s 9ms/step - loss: 1.0068 - accuracy: 0.6719\n",
            "Epoch 31/100\n",
            "387/387 [==============================] - 3s 9ms/step - loss: 1.0002 - accuracy: 0.6754\n",
            "Epoch 32/100\n",
            "387/387 [==============================] - 3s 9ms/step - loss: 0.9947 - accuracy: 0.6774\n",
            "Epoch 33/100\n",
            "387/387 [==============================] - 3s 9ms/step - loss: 0.9908 - accuracy: 0.6770\n",
            "Epoch 34/100\n",
            "387/387 [==============================] - 3s 9ms/step - loss: 0.9849 - accuracy: 0.6797\n",
            "Epoch 35/100\n",
            "387/387 [==============================] - 3s 9ms/step - loss: 0.9802 - accuracy: 0.6812\n",
            "Epoch 36/100\n",
            "387/387 [==============================] - 3s 9ms/step - loss: 0.9751 - accuracy: 0.6823\n",
            "Epoch 37/100\n",
            "387/387 [==============================] - 3s 9ms/step - loss: 0.9697 - accuracy: 0.6838\n",
            "Epoch 38/100\n",
            "387/387 [==============================] - 3s 9ms/step - loss: 0.9648 - accuracy: 0.6850\n",
            "Epoch 39/100\n",
            "387/387 [==============================] - 4s 9ms/step - loss: 0.9604 - accuracy: 0.6864\n",
            "Epoch 40/100\n",
            "387/387 [==============================] - 4s 10ms/step - loss: 0.9588 - accuracy: 0.6863\n",
            "Epoch 41/100\n",
            "387/387 [==============================] - 4s 9ms/step - loss: 0.9558 - accuracy: 0.6885\n",
            "Epoch 42/100\n",
            "387/387 [==============================] - 4s 10ms/step - loss: 0.9512 - accuracy: 0.6885\n",
            "Epoch 43/100\n",
            "387/387 [==============================] - 4s 10ms/step - loss: 0.9471 - accuracy: 0.6908\n",
            "Epoch 44/100\n",
            "387/387 [==============================] - 4s 10ms/step - loss: 0.9404 - accuracy: 0.6912\n",
            "Epoch 45/100\n",
            "387/387 [==============================] - 4s 10ms/step - loss: 0.9373 - accuracy: 0.6935\n",
            "Epoch 46/100\n",
            "387/387 [==============================] - 4s 9ms/step - loss: 0.9344 - accuracy: 0.6944\n",
            "Epoch 47/100\n",
            "387/387 [==============================] - 3s 9ms/step - loss: 0.9327 - accuracy: 0.6951\n",
            "Epoch 48/100\n",
            "387/387 [==============================] - 4s 9ms/step - loss: 0.9285 - accuracy: 0.6965\n",
            "Epoch 49/100\n",
            "387/387 [==============================] - 4s 9ms/step - loss: 0.9246 - accuracy: 0.6969\n",
            "Epoch 50/100\n",
            "387/387 [==============================] - 4s 9ms/step - loss: 0.9234 - accuracy: 0.6973\n",
            "Epoch 51/100\n",
            "387/387 [==============================] - 4s 9ms/step - loss: 0.9175 - accuracy: 0.6990\n",
            "Epoch 52/100\n",
            "387/387 [==============================] - 3s 9ms/step - loss: 0.9172 - accuracy: 0.7000\n",
            "Epoch 53/100\n",
            "387/387 [==============================] - 3s 9ms/step - loss: 0.9134 - accuracy: 0.7001\n",
            "Epoch 54/100\n",
            "387/387 [==============================] - 4s 9ms/step - loss: 0.9095 - accuracy: 0.7011\n",
            "Epoch 55/100\n",
            "387/387 [==============================] - 3s 9ms/step - loss: 0.9081 - accuracy: 0.7003\n",
            "Epoch 56/100\n",
            "387/387 [==============================] - 4s 9ms/step - loss: 0.9037 - accuracy: 0.7041\n",
            "Epoch 57/100\n",
            "387/387 [==============================] - 4s 9ms/step - loss: 0.9018 - accuracy: 0.7038\n",
            "Epoch 58/100\n",
            "387/387 [==============================] - 4s 10ms/step - loss: 0.9013 - accuracy: 0.7041\n",
            "Epoch 59/100\n",
            "387/387 [==============================] - 4s 10ms/step - loss: 0.9027 - accuracy: 0.7047\n",
            "Epoch 60/100\n",
            "387/387 [==============================] - 4s 10ms/step - loss: 0.8974 - accuracy: 0.7066\n",
            "Epoch 61/100\n",
            "387/387 [==============================] - 4s 10ms/step - loss: 0.8939 - accuracy: 0.7065\n",
            "Epoch 62/100\n",
            "387/387 [==============================] - 4s 10ms/step - loss: 0.8929 - accuracy: 0.7066\n",
            "Epoch 63/100\n",
            "387/387 [==============================] - 4s 10ms/step - loss: 0.8862 - accuracy: 0.7090\n",
            "Epoch 64/100\n",
            "387/387 [==============================] - 4s 9ms/step - loss: 0.8868 - accuracy: 0.7082\n",
            "Epoch 65/100\n",
            "387/387 [==============================] - 3s 9ms/step - loss: 0.8837 - accuracy: 0.7094\n",
            "Epoch 66/100\n",
            "387/387 [==============================] - 4s 9ms/step - loss: 0.8825 - accuracy: 0.7094\n",
            "Epoch 67/100\n",
            "387/387 [==============================] - 4s 9ms/step - loss: 0.8832 - accuracy: 0.7095\n",
            "Epoch 68/100\n",
            "387/387 [==============================] - 4s 9ms/step - loss: 0.8781 - accuracy: 0.7094\n",
            "Epoch 69/100\n",
            "387/387 [==============================] - 3s 9ms/step - loss: 0.8752 - accuracy: 0.7129\n",
            "Epoch 70/100\n",
            "387/387 [==============================] - 3s 9ms/step - loss: 0.8715 - accuracy: 0.7124\n",
            "Epoch 71/100\n",
            "387/387 [==============================] - 4s 9ms/step - loss: 0.8717 - accuracy: 0.7138\n",
            "Epoch 72/100\n",
            "387/387 [==============================] - 3s 9ms/step - loss: 0.8694 - accuracy: 0.7133\n",
            "Epoch 73/100\n",
            "387/387 [==============================] - 3s 9ms/step - loss: 0.8702 - accuracy: 0.7151\n",
            "Epoch 74/100\n",
            "387/387 [==============================] - 3s 9ms/step - loss: 0.8673 - accuracy: 0.7137\n",
            "Epoch 75/100\n",
            "387/387 [==============================] - 3s 9ms/step - loss: 0.8624 - accuracy: 0.7163\n",
            "Epoch 76/100\n",
            "387/387 [==============================] - 4s 9ms/step - loss: 0.8615 - accuracy: 0.7165\n",
            "Epoch 77/100\n",
            "387/387 [==============================] - 4s 10ms/step - loss: 0.8606 - accuracy: 0.7174\n",
            "Epoch 78/100\n",
            "387/387 [==============================] - 4s 10ms/step - loss: 0.8599 - accuracy: 0.7164\n",
            "Epoch 79/100\n",
            "387/387 [==============================] - 4s 10ms/step - loss: 0.8582 - accuracy: 0.7180\n",
            "Epoch 80/100\n",
            "387/387 [==============================] - 4s 10ms/step - loss: 0.8550 - accuracy: 0.7183\n",
            "Epoch 81/100\n",
            "387/387 [==============================] - 4s 10ms/step - loss: 0.8541 - accuracy: 0.7183\n",
            "Epoch 82/100\n",
            "387/387 [==============================] - 4s 10ms/step - loss: 0.8508 - accuracy: 0.7187\n",
            "Epoch 83/100\n",
            "387/387 [==============================] - 4s 9ms/step - loss: 0.8500 - accuracy: 0.7194\n",
            "Epoch 84/100\n",
            "387/387 [==============================] - 3s 9ms/step - loss: 0.8460 - accuracy: 0.7234\n",
            "Epoch 85/100\n",
            "387/387 [==============================] - 4s 9ms/step - loss: 0.8480 - accuracy: 0.7209\n",
            "Epoch 86/100\n",
            "387/387 [==============================] - 4s 9ms/step - loss: 0.8443 - accuracy: 0.7213\n",
            "Epoch 87/100\n",
            "387/387 [==============================] - 4s 9ms/step - loss: 0.8447 - accuracy: 0.7221\n",
            "Epoch 88/100\n",
            "387/387 [==============================] - 3s 9ms/step - loss: 0.8410 - accuracy: 0.7221\n",
            "Epoch 89/100\n",
            "387/387 [==============================] - 4s 9ms/step - loss: 0.8371 - accuracy: 0.7241\n",
            "Epoch 90/100\n",
            "387/387 [==============================] - 4s 9ms/step - loss: 0.8343 - accuracy: 0.7249\n",
            "Epoch 91/100\n",
            "387/387 [==============================] - 3s 9ms/step - loss: 0.8337 - accuracy: 0.7246\n",
            "Epoch 92/100\n",
            "387/387 [==============================] - 3s 9ms/step - loss: 0.8337 - accuracy: 0.7251\n",
            "Epoch 93/100\n",
            "387/387 [==============================] - 3s 9ms/step - loss: 0.8343 - accuracy: 0.7257\n",
            "Epoch 94/100\n",
            "387/387 [==============================] - 4s 9ms/step - loss: 0.8297 - accuracy: 0.7261\n",
            "Epoch 95/100\n",
            "387/387 [==============================] - 4s 10ms/step - loss: 0.8288 - accuracy: 0.7254\n",
            "Epoch 96/100\n",
            "387/387 [==============================] - 4s 10ms/step - loss: 0.8252 - accuracy: 0.7273\n",
            "Epoch 97/100\n",
            "387/387 [==============================] - 4s 10ms/step - loss: 0.8287 - accuracy: 0.7268\n",
            "Epoch 98/100\n",
            "387/387 [==============================] - 4s 9ms/step - loss: 0.8250 - accuracy: 0.7267\n",
            "Epoch 99/100\n",
            "387/387 [==============================] - 4s 10ms/step - loss: 0.8208 - accuracy: 0.7278\n",
            "Epoch 100/100\n",
            "387/387 [==============================] - 4s 9ms/step - loss: 0.8189 - accuracy: 0.7294\n"
          ],
          "name": "stdout"
        }
      ]
    },
    {
      "cell_type": "code",
      "metadata": {
        "id": "zu4j2oy-jIQ8",
        "colab": {
          "base_uri": "https://localhost:8080/"
        },
        "outputId": "cbff48e9-06db-48d0-f956-c54c47431b0e"
      },
      "source": [
        "#elijo un index al azar:\n",
        "start_index = random.randint(0, len(text) - maxlen - 1)\n",
        "\n",
        "print(f'**start index: {start_index}**')\n",
        "print()\n",
        "\n",
        "generated = \"\" #string para mis carácteres generados\n",
        "sentence = text[start_index : start_index + maxlen] #elijo la semilla del texto\n",
        "\n",
        "print('...Generating with seed: \"' + sentence + '\"')\n",
        "print()\n",
        "\n",
        "for i in range(output_len):\n",
        "    x_pred = np.zeros((1, maxlen, len(chars)))\n",
        "    for t, char in enumerate(sentence):\n",
        "        x_pred[0, t, char_indices[char]] = 1.0 #codifica el mensaje elegido \n",
        "    preds = model.predict(x_pred, verbose=0)[0] #lo pasa al predictor y lo predice esto nos regresa una matriz de 1x78\n",
        "    # print('preds', preds, preds.shape)\n",
        "    next_index = sample(preds, temperatura) #decodifica la predicción\n",
        "    # print('next_index', next_index)\n",
        "    next_char = indices_char[next_index] # obtenemos el caracter\n",
        "    # print('next_char', next_char)\n",
        "    sentence = sentence[1:] + next_char #damos el siguiente caracter a la sentencia para seguir en el for loop\n",
        "\n",
        "    generated += next_char #se lo pegamos a la secuencia que predecimos\n",
        "\n",
        "print(\"...Generated: \", generated)\n",
        "print()\n",
        "\n",
        "print('...Original: ', text[start_index-1:start_index+400])\n",
        "print()"
      ],
      "execution_count": 98,
      "outputs": [
        {
          "output_type": "stream",
          "text": [
            "**start index: 205049**\n",
            "\n",
            "...Generating with seed: \"l llano, señor delegado... son miles y m\"\n",
            "\n",
            "...Generated:  al de aldrencho para hacerle carnando la cambia nada de misma..... pedre pel. pero no, pero señor contiándo en un rato. y algo que me del correro. me llevaba un pronto se oían la cara muriera. y el de arriba a mi madre se disvino de contarracirno con el mono del río, y le digo un chupa de pezcallo dice que si a una tambiacida de mediado a pedrerse pinieran. las torme, en este cosa que me está agra\n",
            "\n",
            "...Original:  el llano, señor delegado... son miles y miles de yuntas. pero no hay agua. ni siquiera para hacer un buche hay agua. ¿y el temporal? nadie les dijo que se les iba a dotar con tierras de riego. en cuanto allí llueva, se levantará el maíz como si lo estiraran. pero, señor delegado, la tierra está deslavada, dura. no creemos que el arado se entierre en esa como cantera que es la tierra del llano. habr\n",
            "\n"
          ],
          "name": "stdout"
        }
      ]
    },
    {
      "cell_type": "markdown",
      "metadata": {
        "id": "hfHOYhauSlDi"
      },
      "source": [
        "## Los resultados "
      ]
    },
    {
      "cell_type": "markdown",
      "metadata": {
        "id": "9CIympiZaDR5"
      },
      "source": [
        "Notemos que los datos obtenidos a partir de esta máquina son satisfactorios, pues además de poder predecir el siguiente carácter de una la palabra, con respecto al texto original, también logra aprender un poco acerca de la forma en que las oraciones se forman, aquí unas muestras de lo que es posible obtener con los hiperparámetros seleccionados: "
      ]
    },
    {
      "cell_type": "markdown",
      "metadata": {
        "id": "Qzb6bEcLIlCR"
      },
      "source": [
        "**entrenando con 100 épocas, temperatura = 0.1**\n",
        "\n",
        "**start index:  147726**\n",
        "\n",
        "...Generating with seed: \"le deshincharan, le daba ánimos. le decí\"\n",
        "\n",
        "...Generated:  a a la cara la cosa se deshabranda de la misma tara misma...... peíce lo hasta es toda me le pudieron de mi casa, con esos arriban de muchas de mi madrean desde arriba. y lo había dicho: nositas sípanzando hasta la cara de la tierra y les debía a todos de su casa. y eso nos mancha como si se descansada hasta irá por el camino. era estuviera de haber andado esta esta comer. me dije que no se fueran\n",
        "\n",
        "...Original: ba los pies con aguardiente para que se le deshincharan, le daba ánimos. le decía que sólo la virgen de talpa lo curaría. ella era la única que podía hacer que él se aliviara para siempre. ella nada más. había otras muchas vírgenes; pero sólo la de talpa era la buena. eso le decía natalia. y entonces tanilo se ponía a llorar con lágrimas que hacían surco entre el sudor de su cara y después se maldecía por haber sido malo. natalia le lim\n",
        "\n",
        "**start index:  34711**\n",
        "\n",
        "...Generating with seed: \"a platicar con ella nomás por pasar el r\"\n",
        "\n",
        "...Generated:  ío y se levanta abajo, la cara la cara la cara la cara la cara la cara la cara la cara la cara la cara la cara la cara la cara la cara la cara la cara la cara la cara la cara la cara la cara la cara la cara la cara la cara la cara la cara la cara la cara la cara la cara la cara la cara la cara la cara la cara la cara la cara la cara la cara la cara la cara la cara la cara la cara la cara la cara l\n",
        "\n",
        "...Original: i, se fue. la hiciste llorar. sólo quería platicar con ella nomás por pasar el rato. ¿se han fijado cómo tarda en llover? allá en amula ya debe haber llovido, ¿no? si, anteayer cayó un aguacero. no cabe duda de que aquel es un buen sitio. llueve bien y se vive bien. a fe que aquí ni las nubes se aparecen. ¿todavía es rogaciano el presidente municipal? si, todavía. buen hombre ese rogaciano. no. es un maldoso. puede que tengan razón. ¿y \n",
        "\n",
        "**start index:  205040**\n",
        "\n",
        "...Generating with seed: \" es que el llano, señor delegado... son \"\n",
        "\n",
        "...Generated:  esperando lo hubiera de haber de haber vendo a la mancha y caminaba de la media la cabal es un modo que le dije: se le había pusidado con sus manos de la cara la cosa se de cara y reconvando de comer para no estar encima de zantlo, con el recorro de la media luna y entretá de la mesa de todo. yo mañana no? porque eso no se digo parecía. yo me llano para eso de verda síque un chacho los costas para\n",
        "\n",
        "...Original: tener tanto terreno para ustedes solos. es que el llano, señor delegado... son miles y miles de yuntas. pero no hay agua. ni siquiera para hacer un buche hay agua. ¿y el temporal? nadie les dijo que se les iba a dotar con tierras de riego. en cuanto allí llueva, se levantará el maíz como si lo estiraran. pero, señor delegado, la tierra está deslavada, dura. no creemos que el arado se entierre en esa como cantera que es la tierra del ll\n",
        "\n",
        "\n",
        "\n"
      ]
    },
    {
      "cell_type": "markdown",
      "metadata": {
        "id": "1_d8_ZzDKAHp"
      },
      "source": [
        "**Entrenando con 100 épocas, temperatura = 0.5**\n",
        "\n",
        "**start index:  36011**\n",
        "\n",
        "...Generating with seed: \"erro y desaparecer.¡viejas infelices! ¿y\"\n",
        "\n",
        "...Generated:  a no lo se abajo es sueño de calle salido en un chapallizos en la buena y no se digo nin hasta me dijo. ¿la dinerá no. la mancha comenzó a las falcas a despeés. en ese llegó aguando de comer en mi casa y de todo es pedro zamora, por eso me voy n espertrajió: ¡costemos este llena. hasta no se decía. no pensé que dice? no. no puede se humo. . y allí también, como si sus cosas cuentaates de las pues \n",
        "\n",
        "...Original: corral.salirme por la puerta que da al cerro y desaparecer.¡viejas infelices! ¿y qué diantres voy a hacer yo a amula? queremos que nos acompañes en nuestros ruegos. hemos abierto, todas las congregantes del niño anacleto, un novenario de rogaciones para pedir que nos lo canonicen. tú eres su yerno y te necesitamos para que sirvas de testimonio. el señor cura nos encomendó le lleváramos a alguien que lo hubiera tratado de cerca y conocid\n",
        "\n",
        "**start index:  61929**\n",
        "\n",
        "...Generating with seed: \"rezarse. te llevaré a tonaya. bájame. su\"\n",
        "\n",
        "...Generated:  s no tantando que tiempo se deshabrando que lo días ganas. se le pusba al mismo se les acarraba de mi canció de la mesa saberia de todas para parece hasta allá a decirle que te llevamos con este esperanza.anda para tan triste. y eso pasó. ya. apreví me va a misma resalida en el cerro. no se tenimos me dijo. ¿te pesandes estaría como se les debía con la cara la haber radado de pazcula de la cara la\n",
        "\n",
        "...Original: dos o tres pasos de lado y volvió a enderezarse. te llevaré a tonaya. bájame. su voz se hizo quedita, apenas murmurada: quiero acostarme un rato. duérmete allí arriba. al cabo te llevo bien agarrado. la luna iba subiendo, casi azul, sobre un cielo claro. la cara del viejo, mojada en sudor, se llenó de luz. escondió los ojos para no mirar de frente, ya que no podía agachar la cabeza agarrotada entre las manos de su hijo. todo esto que ha\n",
        "\n",
        "**start index:  239746**\n",
        "\n",
        "...Generating with seed: \"puedo alcanzarte ni verte y adonde no ll\"\n",
        "\n",
        "...Generated:  evará pernos conmigo, con eso pasa, mironerondo para todos en el pellen que de el pedazolado estuviera en el cielo. de contra la cara la cara la paredera; pero se la veniran las cosas como si asustó les desha? como es uste. yo teníamos más cosas vez los mandos que está por mi madrinte en canciñada en el cielo. de contra la cambia con tierra... ¡viejas se dejó. nos tenenmes, no parecía mal de la ca\n",
        "\n",
        "...Original:  s de su divina providencia, donde yo no puedo alcanzarte ni verte y adonde no llegan mis palabras. abuela, el molino no sirve, tiene el gusano roto. esa micaela ha de haber molido molcates en él. no se le quita esa mala costumbre; pero en fin, ya no tiene remedio. ¿ por qué no compramos otro? éste ya de tan viejo ni servía. dices bien. aunque con los gastos que hicimos para enterrar a tu abuelo y los diezmos que le hemos pagado a la igl\n",
        "\n",
        "**start index: 57551**\n",
        "\n",
        "...Generating with seed: \"ervido haberlos visto. entonces han de h\"\n",
        "\n",
        "...Generated:  aber de haber vendo a apor cómo entrado en el cielo. se manchó con él. no había pasado a la mantarla ese cuando nos dijeron de la penazó para nada. me dijo en el pueblo. me abriento de sí, morirse con el del sol. uste lo hubiera de haber de haber ver aquel cosas pidió de mi cuarto y nos carió por allí no podrá dije: así ve ninuje, anida en la luz. el pasa de caminar. y lo mandó que nos ocupiba en \n",
        "\n",
        "...Original:  , paisano’. aunque de nada nos hubiera servido haberlos visto. entonces han de haber sido los apaches. ¿cuáles apaches? pos unos que así les dicen y que viven del otro lado. ¿pos que no están las tejas del otro lado? sí, pero está llena de apaches, como no tienes una idea. les voy a hablar a ojinaga para que recojan a tu amigo y tú prevente pa que regreses a tu tierra. ¿de dónde eres? no debías de haber salido de allá.¿tienes dinero? le\n",
        "\n",
        "\n",
        "\n"
      ]
    },
    {
      "cell_type": "markdown",
      "metadata": {
        "id": "oPg2qBNEM50L"
      },
      "source": [
        "**Entrenando con 100 épocas, temperatura 0.7** \n",
        "\n",
        "**start index: 205049**\n",
        "\n",
        "...Generating with seed: \"l llano, señor delegado... son miles y m\"\n",
        "\n",
        "...Generated:  al de aldrencho para hacerle carnando la cambia nada de misma..... pedre pel. pero no, pero señor contiándo en un rato. y algo que me del correro. me llevaba un pronto se oían la cara muriera. y el de arriba a mi madre se disvino de contarracirno con el mono del río, y le digo un chupa de pezcallo dice que si a una tambiacida de mediado a pedrerse pinieran. las torme, en este cosa que me está agra\n",
        "\n",
        "...Original:  el llano, señor delegado... son miles y miles de yuntas. pero no hay agua. ni siquiera para hacer un buche hay agua. ¿y el temporal? nadie les dijo que se les iba a dotar con tierras de riego. en cuanto allí llueva, se levantará el maíz como si lo estiraran. pero, señor delegado, la tierra está deslavada, dura. no creemos que el arado se entierre en esa como cantera que es la tierra del llano. habr\n"
      ]
    },
    {
      "cell_type": "markdown",
      "metadata": {
        "id": "Ta_pVrwpajzP"
      },
      "source": [
        "Aunque es verdad que los resultados son satisfactorios, no hace falta mencionar que las palabras formadas con el entrenamiento no tienen mucha coherencia, esto se debe a que el algoritmo no aprende acerca del **contexto de las palabras**, pero sí del **contexto de los carácteres**. "
      ]
    },
    {
      "cell_type": "code",
      "metadata": {
        "id": "R_6poP-RKGX9"
      },
      "source": [
        ""
      ],
      "execution_count": null,
      "outputs": []
    }
  ]
}