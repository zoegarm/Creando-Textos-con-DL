{
  "nbformat": 4,
  "nbformat_minor": 0,
  "metadata": {
    "colab": {
      "name": "Proyecto_LSTM_DL.ipynb",
      "provenance": [],
      "collapsed_sections": [
        "ri4MhqWw8bVM",
        "qMcDHWS6QzHm",
        "nledMcOUvxB-",
        "YSJVSdzMP6rH",
        "NhpTKYWkYSKN",
        "hfHOYhauSlDi",
        "NYHQTlDnBSLE",
        "mcXq7fjbEGSY",
        "BbbmW0GRAo_H",
        "L6ymoe-_Ar8r",
        "UB8aeHDBAxpS",
        "7JgNtSVEA5uL",
        "U0_ccPJq_YBJ"
      ],
      "include_colab_link": true
    },
    "kernelspec": {
      "name": "python3",
      "display_name": "Python 3"
    },
    "language_info": {
      "name": "python"
    },
    "accelerator": "GPU"
  },
  "cells": [
    {
      "cell_type": "markdown",
      "metadata": {
        "id": "view-in-github",
        "colab_type": "text"
      },
      "source": [
        "<a href=\"https://colab.research.google.com/github/zoegarm/Creando-Textos-con-DL/blob/main/Proyecto_LSTM_DL.ipynb\" target=\"_parent\"><img src=\"https://colab.research.google.com/assets/colab-badge.svg\" alt=\"Open In Colab\"/></a>"
      ]
    },
    {
      "cell_type": "markdown",
      "metadata": {
        "id": "VFFF7DD3YY40"
      },
      "source": [
        "# LSTM: \n"
      ]
    },
    {
      "cell_type": "markdown",
      "metadata": {
        "id": "odWu1AVm8PN2"
      },
      "source": [
        "## La importancia de predecir una secuencia:\n",
        "\n",
        "### Objetivo: \n",
        "\n",
        "El objetivo de mi máquia es poder **generar** nuevos textos a partir de un estilo dado, en mi caso el estilo está dado por novelas de Juan Rulfo, conocido por su novela Pedro Páramo y El Llano en Llamas. \n",
        "\n",
        "Mi máquina tiene un solo objetivo y es aprender la forma en que dado una oración digamos '`si algún\\t`' pueda predecir el siguiente caracter de la secuencia, de manera muy burda ejemplifiquemos esto con la siguiente línea: \n",
        "\n",
        "`si algún d` \n",
        "\n",
        "y posteriormente \n",
        "`si algún dí` \n",
        "\n",
        "hasta finalizar con \n",
        "\n",
        "`si algún día`.\n",
        "\n",
        "La salida que tenemos es en consecuencia una sentencia de palabras que tiene (o no) coherencia. Esta dependerá de \n",
        "\n",
        "1. Las épocas de entrenamiento del algoritmo.\n",
        "2. La temperatura con la cuál se realizan las predicciones. \n",
        "3. La limpieza de los datos o inputs, con los cuales se entrena la red.\n",
        "\n",
        "Los datos fueron recopilados a partir de las siguientes página: https://albalearning.com y https://www.literatura.us/ , las cuales cuentan con un gran acervo de cuentos, poemas y novelas cortas de diversos autores.\n"
      ]
    },
    {
      "cell_type": "code",
      "metadata": {
        "id": "sAtIRjaiinIx"
      },
      "source": [
        "import tensorflow as tf\n",
        "\n",
        "\n",
        "import tensorflow as tf\n",
        "from tensorflow import keras\n",
        "from tensorflow.keras.models import Sequential\n",
        "from tensorflow.keras.layers import Dense, BatchNormalization\n",
        "from tensorflow.keras.layers import Input, Flatten, LSTM, Dropout\n",
        "from tensorflow.keras.callbacks import ModelCheckpoint, LearningRateScheduler\n",
        "from tensorflow.keras.callbacks import EarlyStopping\n",
        "\n",
        "\n",
        "from tensorflow.keras.utils import plot_model\n",
        "\n",
        "import numpy as np\n",
        "import os\n",
        "\n",
        "import numpy as np\n",
        "import random\n",
        "import matplotlib.pyplot as plt\n",
        "import seaborn as sns\n",
        "import pandas as pd\n",
        "\n",
        "\n",
        "from time import time \n",
        "\n",
        "sns.set_style('darkgrid')"
      ],
      "execution_count": null,
      "outputs": []
    },
    {
      "cell_type": "markdown",
      "metadata": {
        "id": "ri4MhqWw8bVM"
      },
      "source": [
        "## Análisis de Datos: \n",
        "\n",
        "En esta parte analizo los datos con los que cuento y hago un conteo de palabras por cada elemento. :) "
      ]
    },
    {
      "cell_type": "markdown",
      "metadata": {
        "id": "QPowmatOYnQ3"
      },
      "source": [
        "### Importo mis datos"
      ]
    },
    {
      "cell_type": "code",
      "metadata": {
        "colab": {
          "base_uri": "https://localhost:8080/"
        },
        "id": "B-kdjAY1iqnx",
        "outputId": "4dbd5958-16d9-4d43-f7e8-da6cc4b7665f"
      },
      "source": [
        "from google.colab import drive\n",
        "drive.mount('/content/drive')\n",
        "\n",
        "import io\n",
        "\n",
        "path = '/content/drive/MyDrive/TSFCI/Proyecto/Juan Rulfo.txt'\n",
        "with io.open(path, encoding='utf-8') as f:\n",
        "    text = f.read().lower()\n",
        "print(len(text))"
      ],
      "execution_count": null,
      "outputs": [
        {
          "output_type": "stream",
          "text": [
            "Drive already mounted at /content/drive; to attempt to forcibly remount, call drive.mount(\"/content/drive\", force_remount=True).\n",
            "310999\n"
          ],
          "name": "stdout"
        }
      ]
    },
    {
      "cell_type": "code",
      "metadata": {
        "colab": {
          "base_uri": "https://localhost:8080/",
          "height": 89
        },
        "id": "mziiczl2MDxe",
        "outputId": "0c7c81d0-5e33-48ff-f068-dfbf172c5546"
      },
      "source": [
        "text[0:500]"
      ],
      "execution_count": null,
      "outputs": [
        {
          "output_type": "execute_result",
          "data": {
            "application/vnd.google.colaboratory.intrinsic+json": {
              "type": "string"
            },
            "text/plain": [
              "'en corazón de maría vivían, no hace mucho tiempo, un padre y un hijo conocidos como los eremites; si acaso, porque los dos se llamaban euremios. uno, euremio cedillo; otro, euremio cedillo también, aunque no costaba ningún trabajo distinguirlos, ya que uno le sacaba al otro una ventaja de veinticinco años bien colmados.\\n         lo colmado estaba en lo alto y garrudo de que lo había dotado la benevolencia de dios nuestro señor al euremio grande. en cambio al chico lo había hecho todo alrevesado,'"
            ]
          },
          "metadata": {
            "tags": []
          },
          "execution_count": 6
        }
      ]
    },
    {
      "cell_type": "markdown",
      "metadata": {
        "id": "ZXMnLzhwYq8R"
      },
      "source": [
        "Hago un análisis rápido:"
      ]
    },
    {
      "cell_type": "code",
      "metadata": {
        "colab": {
          "base_uri": "https://localhost:8080/"
        },
        "id": "iZKaQqDVYlU1",
        "outputId": "e6632a00-f983-487d-96d3-0d2f6d0bdb10"
      },
      "source": [
        "from nltk.util import ngrams\n",
        "import re\n",
        "import nltk\n",
        "from nltk.corpus import stopwords\n",
        "\n",
        "nltk.download('punkt')\n",
        "nltk.download('stopwords')"
      ],
      "execution_count": null,
      "outputs": [
        {
          "output_type": "stream",
          "text": [
            "[nltk_data] Downloading package punkt to /root/nltk_data...\n",
            "[nltk_data]   Unzipping tokenizers/punkt.zip.\n",
            "[nltk_data] Downloading package stopwords to /root/nltk_data...\n",
            "[nltk_data]   Unzipping corpora/stopwords.zip.\n"
          ],
          "name": "stdout"
        },
        {
          "output_type": "execute_result",
          "data": {
            "text/plain": [
              "True"
            ]
          },
          "metadata": {
            "tags": []
          },
          "execution_count": 7
        }
      ]
    },
    {
      "cell_type": "code",
      "metadata": {
        "id": "wnFwABQVZKXJ",
        "colab": {
          "base_uri": "https://localhost:8080/"
        },
        "outputId": "9079f98f-81d0-4bc7-f940-1f465425a43f"
      },
      "source": [
        "#los limpio para el análisis: \n",
        "\n",
        "#con split no me devuelve el número de espacios ni tampoco los saltos de línea\n",
        "#me veo forzado a usar comprensión de lista: \n",
        "\n",
        "text_copy = text\n",
        "\n",
        "analisis = [i for i in text]\n",
        "palabras = text_copy.split()\n",
        "\n",
        "freq_dist_charact = nltk.FreqDist(text_copy)\n",
        "\n",
        "print('los carácteres más comunes son: ', freq_dist_charact.most_common(5))\n",
        "\n",
        "freq_dist_words = nltk.FreqDist(palabras)\n",
        "\n",
        "print('las palabras más comunes son: ', freq_dist_words.most_common(5))\n"
      ],
      "execution_count": null,
      "outputs": [
        {
          "output_type": "stream",
          "text": [
            "los carácteres más comunes son:  [(' ', 67125), ('a', 30034), ('e', 29896), ('o', 22401), ('s', 17496)]\n",
            "las palabras más comunes son:  [('de', 2331), ('que', 2215), ('y', 1655), ('la', 1551), ('a', 1418)]\n"
          ],
          "name": "stdout"
        }
      ]
    },
    {
      "cell_type": "code",
      "metadata": {
        "id": "5MxEtB1Qg7er"
      },
      "source": [
        "#analizamos el conteo sin palabras conectoras: \n",
        "\n",
        "#quito los conectores o stopwords: \n",
        "\n",
        "spanish_stop_words = stopwords.words('spanish')\n",
        "\n",
        "all_words_except_stop_words = [word for word in palabras if word not in spanish_stop_words]\n",
        "\n",
        "#filtro las palabras:\n",
        "freq_dist_no_stop = nltk.FreqDist(all_words_except_stop_words)"
      ],
      "execution_count": null,
      "outputs": []
    },
    {
      "cell_type": "markdown",
      "metadata": {
        "id": "m4g8mcJo5MJG"
      },
      "source": [
        "Número de palabras y Número de carácteres"
      ]
    },
    {
      "cell_type": "code",
      "metadata": {
        "colab": {
          "base_uri": "https://localhost:8080/"
        },
        "id": "yyE5zcruhIIz",
        "outputId": "e78d393e-7562-4e82-88e8-01cabf29af4b"
      },
      "source": [
        "#imprimamos las palabras más comunes y el total de palabras: \n",
        "print('palabras más comunes: ',freq_dist_no_stop.most_common(10))\n",
        "print(f'total de palabras: {len(freq_dist_no_stop)}')\n",
        "\n",
        "#contemos el número de carácteres en el texto: \n",
        "chars = sorted(list(set(text_copy)))\n",
        "print('total chars:', len(chars))"
      ],
      "execution_count": null,
      "outputs": [
        {
          "output_type": "stream",
          "text": [
            "palabras más comunes:  [('si', 329), ('allí', 145), ('.', 123), ('ahora', 106), ('vez', 105), ('aquí', 102), ('así', 101), ('allá', 100), ('después', 98), ('luego', 97)]\n",
            "total de palabras: 10202\n",
            "total chars: 59\n"
          ],
          "name": "stdout"
        }
      ]
    },
    {
      "cell_type": "code",
      "metadata": {
        "colab": {
          "base_uri": "https://localhost:8080/",
          "height": 636
        },
        "id": "G2jdeZFhiqBX",
        "outputId": "62e16cbb-656c-4085-cb09-fca54aa164f5"
      },
      "source": [
        "#creo una visualización de las palabras más comunes: \n",
        "\n",
        "most_common_20 = np.array(list(map(lambda x: list(x), freq_dist_no_stop.most_common(20))))\n",
        "\n",
        "fig = plt.figure(figsize=(15,10))\n",
        "ax = fig.add_subplot()\n",
        "\n",
        "sns.barplot(y = most_common_20[:, 0], x = (most_common_20[:, 1]).astype(int), ax=ax, palette='RdYlBu', orient = 'h');\n",
        "ax.set_title('Frecuencia de las 20 palabras más comunes', pad=10)\n",
        "ax.set_xlabel('Total de veces que aparece una palabra')\n",
        "ax.tick_params(axis='x', rotation=80)\n",
        "\n",
        "plt.show()"
      ],
      "execution_count": null,
      "outputs": [
        {
          "output_type": "display_data",
          "data": {
            "image/png": "[encoded data removed]",
            "text/plain": [
              "<Figure size 1080x720 with 1 Axes>"
            ]
          },
          "metadata": {
            "tags": []
          }
        }
      ]
    },
    {
      "cell_type": "code",
      "metadata": {
        "colab": {
          "base_uri": "https://localhost:8080/",
          "height": 648
        },
        "id": "Q0lSRmv1jC_E",
        "outputId": "4b6e5746-1415-4964-9a82-3b0492deb6d7"
      },
      "source": [
        "#Creo una visualización de los caracteres más comunes: \n",
        "\n",
        "most_common_20 = np.array(list(map(lambda x: list(x), freq_dist_charact.most_common(20))))\n",
        "\n",
        "fig = plt.figure(figsize=(15,10))\n",
        "ax = fig.add_subplot()\n",
        "\n",
        "sns.barplot(y = most_common_20[:, 0], x = (most_common_20[:, 1]).astype(int), ax=ax, palette='RdYlBu', orient = 'h');\n",
        "ax.set_title('Frecuencia de los 20 carácteres más comunes', pad=10)\n",
        "ax.set_xlabel('Conteo')\n",
        "ax.tick_params(axis='x', rotation=80)\n",
        "\n",
        "plt.show()"
      ],
      "execution_count": null,
      "outputs": [
        {
          "output_type": "display_data",
          "data": {
            "image/png": "[encoded data removed]",
            "text/plain": [
              "<Figure size 1080x720 with 1 Axes>"
            ]
          },
          "metadata": {
            "tags": []
          }
        }
      ]
    },
    {
      "cell_type": "markdown",
      "metadata": {
        "id": "JwdDJjCpjniR"
      },
      "source": [
        "Como podemos ver en mi texto hay muchos carácteres de \"espacios\", entonces podría ser buena idea remover los saltos de línea para mejorar las predicciones, por ejemplo. Yo sé esto porque yo mismo recopilé la información, pero hacer el análisis me confirma que sí debo quitarlos para mejorar el modelo. Recordemos que el modelo predice tan bien como aprende. Yo tengo el conocimiento de que este conteo tan grande en ese caracter es debido a la naturaleza de la fuente de los datos. "
      ]
    },
    {
      "cell_type": "markdown",
      "metadata": {
        "id": "knKTjAc9vpMp"
      },
      "source": [
        "### Limpieza de Datos"
      ]
    },
    {
      "cell_type": "code",
      "metadata": {
        "colab": {
          "base_uri": "https://localhost:8080/",
          "height": 127
        },
        "id": "_L8jytsui57k",
        "outputId": "a9915a00-2dd8-4e12-b327-5e1b17df1f53"
      },
      "source": [
        "#Primero quito los saltos, luego divido por carácter y luego dropeo los nan\n",
        "text_copy_2 = pd.Series(text_copy).str.replace('\\n', '').str.split().dropna().sum()\n",
        "\n",
        "#junto los datos con un conector de espacio\n",
        "text_copy_2 = ' '.join(text_copy_2)\n",
        "\n",
        "text_copy = text_copy_2\n",
        "\n",
        "#obtengo mi data limpia :)\n",
        "print('la longitud del texto ahora es de', len(text_copy))\n",
        "print('muestra: \\n')\n",
        "text_copy[0:400]"
      ],
      "execution_count": null,
      "outputs": [
        {
          "output_type": "stream",
          "text": [
            "la longitud del texto ahora es de 297225\n",
            "muestra: \n",
            "\n"
          ],
          "name": "stdout"
        },
        {
          "output_type": "execute_result",
          "data": {
            "application/vnd.google.colaboratory.intrinsic+json": {
              "type": "string"
            },
            "text/plain": [
              "'en corazón de maría vivían, no hace mucho tiempo, un padre y un hijo conocidos como los eremites; si acaso, porque los dos se llamaban euremios. uno, euremio cedillo; otro, euremio cedillo también, aunque no costaba ningún trabajo distinguirlos, ya que uno le sacaba al otro una ventaja de veinticinco años bien colmados. lo colmado estaba en lo alto y garrudo de que lo había dotado la benevolencia '"
            ]
          },
          "metadata": {
            "tags": []
          },
          "execution_count": 13
        }
      ]
    },
    {
      "cell_type": "code",
      "metadata": {
        "colab": {
          "base_uri": "https://localhost:8080/"
        },
        "id": "SyUp3KHjv9m3",
        "outputId": "5eb76b5c-828f-4afe-f640-8e2cb7e32782"
      },
      "source": [
        "len(text_copy)"
      ],
      "execution_count": null,
      "outputs": [
        {
          "output_type": "execute_result",
          "data": {
            "text/plain": [
              "297225"
            ]
          },
          "metadata": {
            "tags": []
          },
          "execution_count": 14
        }
      ]
    },
    {
      "cell_type": "code",
      "metadata": {
        "colab": {
          "base_uri": "https://localhost:8080/"
        },
        "id": "ylgHPAVGuWZS",
        "outputId": "06e8fe09-01ee-45e3-e249-6a356e128540"
      },
      "source": [
        "#analizo nuevamente: \n",
        "\n",
        "analisis = [i for i in text_copy]\n",
        "palabras = text_copy.split()\n",
        "\n",
        "freq_dist_charact = nltk.FreqDist(text_copy)\n",
        "\n",
        "print('los carácteres más comunes son: ', freq_dist_charact.most_common(5))\n",
        "\n",
        "freq_dist_words = nltk.FreqDist(palabras)\n",
        "\n",
        "print('las palabras más comunes son: ', freq_dist_words.most_common(5))"
      ],
      "execution_count": null,
      "outputs": [
        {
          "output_type": "stream",
          "text": [
            "los carácteres más comunes son:  [(' ', 55152), ('a', 30034), ('e', 29896), ('o', 22401), ('s', 17496)]\n",
            "las palabras más comunes son:  [('de', 2329), ('que', 2215), ('y', 1655), ('la', 1551), ('a', 1418)]\n"
          ],
          "name": "stdout"
        }
      ]
    },
    {
      "cell_type": "code",
      "metadata": {
        "colab": {
          "base_uri": "https://localhost:8080/",
          "height": 648
        },
        "id": "LklHMMnUvKwM",
        "outputId": "f73813d9-271b-41ea-98e7-18606f8a4c6a"
      },
      "source": [
        "#Creo una visualización de los caracteres más comunes: \n",
        "\n",
        "most_common_20 = np.array(list(map(lambda x: list(x), freq_dist_charact.most_common(5))))\n",
        "\n",
        "fig = plt.figure(figsize=(15,10))\n",
        "ax = fig.add_subplot()\n",
        "\n",
        "sns.barplot(y = most_common_20[:, 0], x = (most_common_20[:, 1]).astype(int), ax=ax, palette='RdYlBu', orient = 'h');\n",
        "ax.set_title('Frecuencia de los 5 carácteres más comunes', pad=10)\n",
        "ax.set_xlabel('Conteo')\n",
        "ax.tick_params(axis='x', rotation=80)\n",
        "\n",
        "plt.show()"
      ],
      "execution_count": null,
      "outputs": [
        {
          "output_type": "display_data",
          "data": {
            "image/png": "[encoded data removed]",
            "text/plain": [
              "<Figure size 1080x720 with 1 Axes>"
            ]
          },
          "metadata": {
            "tags": []
          }
        }
      ]
    },
    {
      "cell_type": "markdown",
      "metadata": {
        "id": "tdpXIAEluvC2"
      },
      "source": [
        "Podemos ver que el procesamiento me quitó 11973 carácteres de espacios, lo que puede mejorar significativamente el aprendizaje de mi máquina. "
      ]
    },
    {
      "cell_type": "markdown",
      "metadata": {
        "id": "qMcDHWS6QzHm"
      },
      "source": [
        "## Separación de los Datos\n",
        "\n",
        "En mi caso voy a entrenar con **letras**. Sí, con letras. Esto es debido a que tengo un total de 10202 palabras diferentes contenidas en el texto (incluyendo algunos símbolos de puntuación que se colaron). Si quisiera entrenar con esa cantidad de datos, tendría que elegir una cantidad aún mayor de datos, que en mi caso son novelas, para poder entrenar bien mi modelo. Además, dado que intento predecir secuencias, dada una palabra con índice `k` tendría que encontrar las $10202 - k$ posibles combinaciones en que esa palabra puede estar asociada a otras.\n",
        "\n",
        "De forma semejante, si lo hago para el caso de los carácteres en mi texto, solo tengo $58$ carácteres distintos a través de los cuales se pretenden construir palabras y también oraciones completas. \n",
        "\n",
        "Este es el precio a pagar, al menos desde mi punto de vista, ya que aunque el algoritmo aprenda la secuencia para reproducir palabras en secuencia, estas dificilmente puedrán tener sentido o gozar, por otro lado de riqueza contextual.\n",
        "\n",
        "Algo que debemos notar es que no voy a dar un dataset de entrenamiento y otro de validación, en este caso no estoy buscando una máquina que pueda predecir con exactitud la secuencia de caracteres que van a formar en su conjunto, por ejemplo la novela Pedro Páramo, en contraparte, quiero crear una máquina que minimice la función de costo, donde la función que optimizaremos representa la diferencia promedio entre las distribuciones de probabilidad esperada y la obtenida. De tal manera que debo tener un balance entre una función de costo baja y al mismo tiempo cuidar que mi modelo no aprenda lo suficiente como para que pueda predecir de manera exacta los carácteres que le siguen dada una sentencia. "
      ]
    },
    {
      "cell_type": "code",
      "metadata": {
        "id": "OTbTxMqY_FKl"
      },
      "source": [
        "text = text_copy"
      ],
      "execution_count": null,
      "outputs": []
    },
    {
      "cell_type": "code",
      "metadata": {
        "colab": {
          "base_uri": "https://localhost:8080/"
        },
        "id": "V6YWH5bCitUt",
        "outputId": "13776ac3-8d51-4df9-a5fb-457282256d45"
      },
      "source": [
        "#Hago diccionarios útiles para mis datos \n",
        "chars = sorted(list(set(text)))\n",
        "print('total chars:', len(chars))\n",
        "char_indices = dict((c, i) for i, c in enumerate(chars)) #diccionario de caracter a indice\n",
        "indices_char = dict((i, c) for i, c in enumerate(chars)) #de indice a caracter"
      ],
      "execution_count": null,
      "outputs": [
        {
          "output_type": "stream",
          "text": [
            "total chars: 58\n"
          ],
          "name": "stdout"
        }
      ]
    },
    {
      "cell_type": "code",
      "metadata": {
        "id": "27I29OmZi8N_"
      },
      "source": [
        "sentences = []\n",
        "next_chars = []\n",
        "for i in range(0, len(text) - 40, 3):\n",
        "    sentences.append(text[i: i + 40]) #listas de longitud 40\n",
        "    next_chars.append(text[i + 40])   #lista del siguiente caracter en la lista\n",
        "\n",
        "# otra version de one hot encoding con bool:\n",
        "x = np.zeros((len(sentences), 40, len(chars)), dtype=np.int)\n",
        "y = np.zeros((len(sentences), len(chars)), dtype=np.int)\n",
        "for i, sentence in enumerate(sentences):\n",
        "    for t, char in enumerate(sentence):\n",
        "        x[i, t, char_indices[char]] = 1       #lista que tiene el índice de la sentencia, el índice de caracter en la sentencia y el índice del caracter en el diccionario\n",
        "    y[i, char_indices[next_chars[i]]] = 1   #lista con índice de sentencia en el diccionario con respecto al siguiente caracter"
      ],
      "execution_count": null,
      "outputs": []
    },
    {
      "cell_type": "markdown",
      "metadata": {
        "id": "nledMcOUvxB-"
      },
      "source": [
        "## Definición de Arquitectura:\n",
        "\n",
        "\n",
        "En esta parte defino el modelo que uso y explico por qué uso ese modelo. Además afino hiperparámetros a través de un muestreo rándom y finalmente doy la arquitectura que usaré para resolver el problema. Primero explico qué es una red RNN, posteriormente una LSTM. "
      ]
    },
    {
      "cell_type": "markdown",
      "metadata": {
        "id": "A3DLLRZXup2s"
      },
      "source": [
        "### LSTM: ¿Qué es? \n",
        "\n",
        "Antes de explicar esta red primero debo comenzar con otra que es muy similar a esta, llamada **RNN** o **Recurent Neural Network**. Que son redes que tienen dos entradas, el dato actual y el estado oculto anterior, además proporcionan dos salidas, la predicción y la actualización del estado oculto $a$. Entonces analiza las entradas $x, a$ y realiza una predicción $y$. \n",
        "\n",
        "De forma matemática: \n",
        "\n",
        "$$\n",
        "  f(x, a_{t-1}) \\rightarrow (y, a_t)\n",
        "$$\n",
        "\n",
        "$$\n",
        "  a_t=f\\left(W_t,a_{t-1},x_n\\right)\n",
        "$$\n",
        "\n",
        "De forma algorítmica: \n",
        "\n",
        "```\n",
        "   x = a and h = 0\n",
        "   f(x,h) = (a,next_hidden)\n",
        "   prev_hidden = next_hidden\n",
        "\n",
        "   x = a and h = prev_hidden\n",
        "   f(x,h) = (b,next_hidden)\n",
        "   prev_hidden = next_hidden\n",
        "\n",
        "   x = b and h = prev_hidden\n",
        "   f(x,h) = (c,next_hidden)\n",
        "   prev_hidden = next_hidden\n",
        "\n",
        "```\n",
        "\n",
        "Esto significa que a un paso $t+k$ nuestro estado oculto se desvanece  $a_{t+k} \\rightarrow 0$ o aumenta como loca $a_{t+k} \\rightarrow \\infty$, dependiendo de la función $f$, con la cuál es evaluada. \n",
        "\n",
        "En el caso de los algoritmos convencionales se usa $tanh$ para evaluar, esto resulta en que las **RNN** tengan una memoria corta. \n",
        "\n",
        "Esto se soluciona con las redes LSTM que están diseñadas para poder cargar 2 estados de actualización, uno oculto $a$ y otro llamado **estado de celda** $c$. \n",
        "\n",
        "Esquemáticamente: \n",
        "\n",
        "\n",
        "<img src = 'https://upload.wikimedia.org/wikipedia/commons/thumb/1/17/The_LSTM_Cell.svg/1024px-The_LSTM_Cell.svg.png' width='500px'>\n",
        "\n"
      ]
    },
    {
      "cell_type": "markdown",
      "metadata": {
        "id": "6Fkbpy7qRhn5"
      },
      "source": [
        "### El modelo"
      ]
    },
    {
      "cell_type": "code",
      "metadata": {
        "id": "ly1jkLYFuvOe",
        "colab": {
          "base_uri": "https://localhost:8080/"
        },
        "outputId": "22c83615-43b3-4cf7-ebfc-0bdfba0887b0"
      },
      "source": [
        "learning_rate = 0.01\n",
        "opt = keras.optimizers.RMSprop(lr=learning_rate)\n",
        "\n",
        "model_save = ModelCheckpoint(\"weights-improvement-{epoch:02d}-{loss:.4f}.hdf5\", monitor='loss', verbose=1, save_best_only=True, mode='min')\n",
        "early_stopping = EarlyStopping(monitor = 'loss', patience= 5)\n",
        "\n",
        "#Creates a model given an optimitation function and learning rate\n",
        "def create_model(learning_rate, opt = opt, drop = 0.0):\n",
        "  \n",
        "  model = Sequential()\n",
        "  model.add(LSTM(128, input_shape=(40, len(chars))))#, return_sequences=True))\n",
        "  \n",
        "  model.add(BatchNormalization()) #extra\n",
        "  model.add(Dropout(drop)) #extra\n",
        "\n",
        "  model.add(Dense(len(chars), activation='softmax'))\n",
        "\n",
        "  model.compile(loss='categorical_crossentropy', optimizer=opt, metrics = ['accuracy'])\n",
        "\n",
        "  return model"
      ],
      "execution_count": null,
      "outputs": [
        {
          "output_type": "stream",
          "text": [
            "/usr/local/lib/python3.7/dist-packages/keras/optimizer_v2/optimizer_v2.py:356: UserWarning: The `lr` argument is deprecated, use `learning_rate` instead.\n",
            "  \"The `lr` argument is deprecated, use `learning_rate` instead.\")\n"
          ],
          "name": "stderr"
        }
      ]
    },
    {
      "cell_type": "markdown",
      "metadata": {
        "id": "ZoTf8lCWPyaa"
      },
      "source": [
        "### Afinando hiperparámetros\n",
        "\n",
        "Aclaraciones, aunque intenté hacer la elección del muestreo con un for me di cuenta de que ocupa mucha memoria ram, así como también lo hace usar un muestreo k-folds, así que me tuve que ver forzado a hacerlo a mano.\n",
        "\n",
        "Como sabemos, elegir hiperparámetros adecuados con el método \"grid\" es muy tardado, así que eligiré el mejor de 5 testeos rándom. \n",
        "\n",
        "https://analyticsindiamag.com/why-is-random-search-better-than-grid-search-for-machine-learning/"
      ]
    },
    {
      "cell_type": "markdown",
      "metadata": {
        "id": "VxIFgg6xO39p"
      },
      "source": [
        "\n",
        "\n",
        "```python\n",
        "### Creo una lista de los hiperparámetros que voy a usar para afinar mi modelo: \n",
        "\n",
        "## opt_list: lista de optimizers (reducen la función de costo)\n",
        "opt_list = [tf.keras.optimizers.Adamax(lr=learning_rate), keras.optimizers.RMSprop(lr=learning_rate)]\n",
        "## lr_list: lista de learning rate: step size at each iteration while moving toward a minimum of a loss function\n",
        "lr_list = [0.1, 0.01, 0.001]\n",
        "## lr_batch: lista de batchs: la forma en la que se da la información de entrenamiento\n",
        "lr_batch = [2**i for i in range(6, 10)]\n",
        "\n",
        "\n",
        "random_loss = {}\n",
        "\n",
        "for i in range(0,10):\n",
        "\n",
        "  random_opt = random.choice(opt_list)\n",
        "  random_lr = random.choice(lr_list)\n",
        "  random_batch = random.choice(lr_batch) \n",
        "  \n",
        "  tic = time()\n",
        "\n",
        "  random_model = create_model(random_lr, random_opt)\n",
        "  h_random = random_model.fit(x, y, batch_size=random_batch, epochs=5)\n",
        "  \n",
        "  toc = time()\n",
        "  tiempo = toc - tic \n",
        "  \n",
        "  random_loss[i] = [h_random, random_opt, random_lr, random_batch, tiempo]\n",
        "\n",
        "save = pd.DataFrame(random_loss)\n",
        "\n",
        "for i in range(0,10):\n",
        "  save[i][0] = random_loss[i][0].history['loss']\n",
        "\n",
        "save = save.T.rename(columns={0:'loss', 1:'opt', 2:'lr', 3:'batch', 4:'tiempo'})\n",
        "save.to_csv('random_loss_7.csv')\n",
        "```\n",
        "\n"
      ]
    },
    {
      "cell_type": "code",
      "metadata": {
        "colab": {
          "base_uri": "https://localhost:8080/",
          "height": 206
        },
        "id": "SvP4IMiUSfIo",
        "outputId": "4ef49d3a-c494-4dc6-afaa-ff12d8af768c"
      },
      "source": [
        "# Analizamos los resultados de 70 corridas: \n",
        "import warnings\n",
        "warnings.filterwarnings(\"ignore\")\n",
        "\n",
        "import ast\n",
        "\n",
        "dic_df = {}\n",
        "\n",
        "for i in range(0,7):\n",
        "  ls_read = pd.read_csv(f'https://raw.githubusercontent.com/zoegarm/Creando-Textos-con-DL/main/hyperparameter_tuning/random_loss_{i+1}.csv', index_col=0)\n",
        "  dic_df[i] = ls_read\n",
        "\n",
        "ls_loss = pd.concat(dic_df, ignore_index=True)\n",
        "\n",
        "\n",
        "for i in range(len(ls_loss)):\n",
        "  ls_loss.loss[i] = min(ast.literal_eval(ls_loss.loss[i]))\n",
        "\n",
        "\n",
        "ls_loss = ls_loss.sort_values(['loss','tiempo'], ascending=True)\n",
        "\n",
        "ls_loss.head()"
      ],
      "execution_count": null,
      "outputs": [
        {
          "output_type": "execute_result",
          "data": {
            "text/html": [
              "<div>\n",
              "<style scoped>\n",
              "    .dataframe tbody tr th:only-of-type {\n",
              "        vertical-align: middle;\n",
              "    }\n",
              "\n",
              "    .dataframe tbody tr th {\n",
              "        vertical-align: top;\n",
              "    }\n",
              "\n",
              "    .dataframe thead th {\n",
              "        text-align: right;\n",
              "    }\n",
              "</style>\n",
              "<table border=\"1\" class=\"dataframe\">\n",
              "  <thead>\n",
              "    <tr style=\"text-align: right;\">\n",
              "      <th></th>\n",
              "      <th>loss</th>\n",
              "      <th>opt</th>\n",
              "      <th>lr</th>\n",
              "      <th>batch</th>\n",
              "      <th>tiempo</th>\n",
              "    </tr>\n",
              "  </thead>\n",
              "  <tbody>\n",
              "    <tr>\n",
              "      <th>0</th>\n",
              "      <td>1.77136</td>\n",
              "      <td>&lt;tensorflow.python.keras.optimizer_v2.rmsprop....</td>\n",
              "      <td>0.01</td>\n",
              "      <td>256</td>\n",
              "      <td>43.829839</td>\n",
              "    </tr>\n",
              "    <tr>\n",
              "      <th>60</th>\n",
              "      <td>1.77915</td>\n",
              "      <td>&lt;tensorflow.python.keras.optimizer_v2.rmsprop....</td>\n",
              "      <td>0.01</td>\n",
              "      <td>256</td>\n",
              "      <td>53.925647</td>\n",
              "    </tr>\n",
              "    <tr>\n",
              "      <th>26</th>\n",
              "      <td>1.77982</td>\n",
              "      <td>&lt;tensorflow.python.keras.optimizer_v2.rmsprop....</td>\n",
              "      <td>0.01</td>\n",
              "      <td>256</td>\n",
              "      <td>31.875779</td>\n",
              "    </tr>\n",
              "    <tr>\n",
              "      <th>51</th>\n",
              "      <td>1.78066</td>\n",
              "      <td>&lt;tensorflow.python.keras.optimizer_v2.rmsprop....</td>\n",
              "      <td>0.10</td>\n",
              "      <td>256</td>\n",
              "      <td>84.090773</td>\n",
              "    </tr>\n",
              "    <tr>\n",
              "      <th>35</th>\n",
              "      <td>1.78073</td>\n",
              "      <td>&lt;tensorflow.python.keras.optimizer_v2.adam.Ada...</td>\n",
              "      <td>0.01</td>\n",
              "      <td>128</td>\n",
              "      <td>45.080011</td>\n",
              "    </tr>\n",
              "  </tbody>\n",
              "</table>\n",
              "</div>"
            ],
            "text/plain": [
              "       loss  ...     tiempo\n",
              "0   1.77136  ...  43.829839\n",
              "60  1.77915  ...  53.925647\n",
              "26  1.77982  ...  31.875779\n",
              "51  1.78066  ...  84.090773\n",
              "35  1.78073  ...  45.080011\n",
              "\n",
              "[5 rows x 5 columns]"
            ]
          },
          "metadata": {
            "tags": []
          },
          "execution_count": 21
        }
      ]
    },
    {
      "cell_type": "markdown",
      "metadata": {
        "id": "LLhdPfPrOKNt"
      },
      "source": [
        "````python\n",
        "#Creo listas para mi adhición de capas y neuronas:\n",
        "nl_list = [i for i in range(1, 10)]\n",
        "nn_list = [i**2 for i in range(1, 10)]\n",
        "list_drop = np.linspace(0, 0.1, 10)\n",
        "\n",
        "random_loss = {}\n",
        "\n",
        "for i in range(0, 2):\n",
        "  random_nl = random.choice(nl_list)\n",
        "  random_nn = random.choice(nn_list)\n",
        "  random_drop = random.choice(list_drop)\n",
        "\n",
        "  print()\n",
        "\n",
        "  tic = time()\n",
        "\n",
        "  random_model = create_model(0.01, opt = opt, add = True,\n",
        "                              nl = random_nl, nn=random_nl, drop=random_drop)\n",
        "  \n",
        "  h_random = random_model.fit(x, y, batch_size=random_batch, epochs=5)\n",
        "  \n",
        "  toc = time()\n",
        "  tiempo = toc - tic \n",
        "\n",
        "  random_loss[i] = [h_random, tiempo, random_nl, random_nn, random_drop]\n",
        "````\n",
        "\n",
        "<img src = 'https://raw.githubusercontent.com/zoegarm/Creando-Textos-con-DL/main/loss_img/loss_vs_e_2.png'>\n",
        "\n",
        "<img src = 'https://raw.githubusercontent.com/zoegarm/Creando-Textos-con-DL/main/loss_img/loss_vs_e_3.png'>"
      ]
    },
    {
      "cell_type": "markdown",
      "metadata": {
        "id": "XD6od3Qs4yZ5"
      },
      "source": [
        "Drop Out \n",
        "```python\n",
        "#Afino el dropout: \n",
        "\n",
        "list_drop = np.linspace(0, 0.1, 10)\n",
        "loss = {}\n",
        "\n",
        "for i in range(len(list_drop)):\n",
        "  \n",
        "  tic = time()\n",
        "\n",
        "  random_model = create_model(0.01, opt=opt, drop=list_drop[i])\n",
        "  h = random_model.fit(x, y, batch_size=256, epochs=10)\n",
        "  \n",
        "  toc = time()\n",
        "  tiempo = toc - tic \n",
        "  \n",
        "  loss[i] = [h, tiempo, list_drop[i]]\n",
        "\n",
        "save = pd.DataFrame(loss)\n",
        "save = save.T\n",
        "\n",
        "plt.figure(figsize=(16, 8))\n",
        "\n",
        "for i in range(len(save)):\n",
        "  plt.plot(save[0][i].history['loss'], label = f'drop out: {round(save[2][i], 3)}')\n",
        "  plt.legend()\n",
        "\n",
        "plt.xlabel('Epoch')\n",
        "plt.ylabel('Cost')\n",
        "plt.title('Cost vs Epoch: No Layers')\n",
        "```\n",
        "\n",
        "<img src = \"https://raw.githubusercontent.com/zoegarm/Creando-Textos-con-DL/main/loss_img/loss_vs_e_1.png\">\n"
      ]
    },
    {
      "cell_type": "markdown",
      "metadata": {
        "id": "RGhjmegRPLnv"
      },
      "source": [
        "**Los mejores hiperparámetros resultan ser el optimizador RMSprop con learning rate de 0.01, con un batch de 0, y ninguna capa extra (ya sea LSTM o multilayer) con respecto al modelo original.**\n",
        "\n",
        "<img src = 'https://raw.githubusercontent.com/zoegarm/Creando-Textos-con-DL/main/loss_img/loss_vs_e_4_opt.png'>"
      ]
    },
    {
      "cell_type": "markdown",
      "metadata": {
        "id": "YSJVSdzMP6rH"
      },
      "source": [
        "### Creando el modelo óptimo: "
      ]
    },
    {
      "cell_type": "code",
      "metadata": {
        "id": "KsLfZmdD-zz0"
      },
      "source": [
        "model = create_model(0.01, opt=opt, drop = 0)"
      ],
      "execution_count": null,
      "outputs": []
    },
    {
      "cell_type": "code",
      "metadata": {
        "colab": {
          "base_uri": "https://localhost:8080/",
          "height": 533
        },
        "id": "WTpu6bb-jCLi",
        "outputId": "1266de6a-5c7f-4b29-dea4-5c043aefb1f7"
      },
      "source": [
        "plot_model(model, show_shapes=True, expand_nested=True, show_layer_names=True)"
      ],
      "execution_count": null,
      "outputs": [
        {
          "output_type": "execute_result",
          "data": {
            "image/png": "[encoded data removed]",
            "text/plain": [
              "<IPython.core.display.Image object>"
            ]
          },
          "metadata": {
            "tags": []
          },
          "execution_count": 23
        }
      ]
    },
    {
      "cell_type": "markdown",
      "metadata": {
        "id": "NhpTKYWkYSKN"
      },
      "source": [
        "## Entrenando y haciendo predicciones: \n",
        "\n",
        "En esta parte muestro el entrenamiento realizado por mi modelo y posteriormente hago predicciones con respecto a una semilla aleatoria en el texto. Notemos que en principio puede ser cualquier semilla, siempre y cuando esta tenga una longitud de $N$ caracterés dados, que es con la que se realizó el entrenamiento. "
      ]
    },
    {
      "cell_type": "code",
      "metadata": {
        "id": "uoTunVAvjDm6"
      },
      "source": [
        "def sample(preds, temperature=1.0):\n",
        "    preds = np.asarray(preds).astype('float64')\n",
        "    preds = np.log(preds) / temperature\n",
        "    exp_preds = np.exp(preds)\n",
        "    preds = exp_preds / np.sum(exp_preds)\n",
        "    probas = np.random.multinomial(1, preds, 1)\n",
        "    return np.argmax(probas)"
      ],
      "execution_count": null,
      "outputs": []
    },
    {
      "cell_type": "code",
      "metadata": {
        "id": "LinYeziyFqc1"
      },
      "source": [
        "#Algunos híperparámetros: \n",
        "epochs = 60 #Este hiperparámetro mejora la coherencia del texto obtenido\n",
        "batch_size = 256 #Tamaño óptimo del batch size"
      ],
      "execution_count": null,
      "outputs": []
    },
    {
      "cell_type": "code",
      "metadata": {
        "colab": {
          "base_uri": "https://localhost:8080/"
        },
        "id": "1I40_6CiCSiA",
        "outputId": "1a9a44a4-bed8-41d4-e174-9a60d74f757c"
      },
      "source": [
        "#entrenamiento\n",
        "tic = time()\n",
        "h_call = model.fit(x, y, batch_size=batch_size, epochs=epochs,\n",
        "                   callbacks = [early_stopping, model_save])\n",
        "toc = time()\n",
        "\n",
        "print(toc-tic)"
      ],
      "execution_count": null,
      "outputs": [
        {
          "output_type": "stream",
          "text": [
            "Epoch 1/60\n",
            "387/387 [==============================] - 3s 9ms/step - loss: 0.8218 - accuracy: 0.7295\n",
            "\n",
            "Epoch 00001: loss improved from inf to 0.82178, saving model to weights-improvement-01-0.8218.hdf5\n",
            "Epoch 2/60\n",
            "387/387 [==============================] - 3s 8ms/step - loss: 0.8189 - accuracy: 0.7301\n",
            "\n",
            "Epoch 00002: loss improved from 0.82178 to 0.81891, saving model to weights-improvement-02-0.8189.hdf5\n",
            "Epoch 3/60\n",
            "387/387 [==============================] - 3s 8ms/step - loss: 0.8179 - accuracy: 0.7293\n",
            "\n",
            "Epoch 00003: loss improved from 0.81891 to 0.81791, saving model to weights-improvement-03-0.8179.hdf5\n",
            "Epoch 4/60\n",
            "387/387 [==============================] - 3s 8ms/step - loss: 0.8195 - accuracy: 0.7279\n",
            "\n",
            "Epoch 00004: loss did not improve from 0.81791\n",
            "Epoch 5/60\n",
            "387/387 [==============================] - 3s 8ms/step - loss: 0.8161 - accuracy: 0.7285\n",
            "\n",
            "Epoch 00005: loss improved from 0.81791 to 0.81614, saving model to weights-improvement-05-0.8161.hdf5\n",
            "Epoch 6/60\n",
            "387/387 [==============================] - 3s 9ms/step - loss: 0.8139 - accuracy: 0.7309\n",
            "\n",
            "Epoch 00006: loss improved from 0.81614 to 0.81394, saving model to weights-improvement-06-0.8139.hdf5\n",
            "Epoch 7/60\n",
            "387/387 [==============================] - 3s 9ms/step - loss: 0.8155 - accuracy: 0.7310\n",
            "\n",
            "Epoch 00007: loss did not improve from 0.81394\n",
            "Epoch 8/60\n",
            "387/387 [==============================] - 3s 9ms/step - loss: 0.8145 - accuracy: 0.7301\n",
            "\n",
            "Epoch 00008: loss did not improve from 0.81394\n",
            "Epoch 9/60\n",
            "387/387 [==============================] - 3s 9ms/step - loss: 0.8096 - accuracy: 0.7318\n",
            "\n",
            "Epoch 00009: loss improved from 0.81394 to 0.80955, saving model to weights-improvement-09-0.8096.hdf5\n",
            "Epoch 10/60\n",
            "387/387 [==============================] - 3s 9ms/step - loss: 0.8121 - accuracy: 0.7314\n",
            "\n",
            "Epoch 00010: loss did not improve from 0.80955\n",
            "Epoch 11/60\n",
            "387/387 [==============================] - 3s 9ms/step - loss: 0.8122 - accuracy: 0.7296\n",
            "\n",
            "Epoch 00011: loss did not improve from 0.80955\n",
            "Epoch 12/60\n",
            "387/387 [==============================] - 3s 9ms/step - loss: 0.8077 - accuracy: 0.7339\n",
            "\n",
            "Epoch 00012: loss improved from 0.80955 to 0.80770, saving model to weights-improvement-12-0.8077.hdf5\n",
            "Epoch 13/60\n",
            "387/387 [==============================] - 3s 8ms/step - loss: 0.8067 - accuracy: 0.7324\n",
            "\n",
            "Epoch 00013: loss improved from 0.80770 to 0.80668, saving model to weights-improvement-13-0.8067.hdf5\n",
            "Epoch 14/60\n",
            "387/387 [==============================] - 3s 8ms/step - loss: 0.7979 - accuracy: 0.7349\n",
            "\n",
            "Epoch 00014: loss improved from 0.80668 to 0.79787, saving model to weights-improvement-14-0.7979.hdf5\n",
            "Epoch 15/60\n",
            "387/387 [==============================] - 3s 8ms/step - loss: 0.8050 - accuracy: 0.7323\n",
            "\n",
            "Epoch 00015: loss did not improve from 0.79787\n",
            "Epoch 16/60\n",
            "387/387 [==============================] - 3s 9ms/step - loss: 0.8010 - accuracy: 0.7337\n",
            "\n",
            "Epoch 00016: loss did not improve from 0.79787\n",
            "Epoch 17/60\n",
            "387/387 [==============================] - 3s 9ms/step - loss: 0.8052 - accuracy: 0.7338\n",
            "\n",
            "Epoch 00017: loss did not improve from 0.79787\n",
            "Epoch 18/60\n",
            "387/387 [==============================] - 3s 9ms/step - loss: 0.8034 - accuracy: 0.7332\n",
            "\n",
            "Epoch 00018: loss did not improve from 0.79787\n",
            "Epoch 19/60\n",
            "387/387 [==============================] - 3s 9ms/step - loss: 0.7988 - accuracy: 0.7353\n",
            "\n",
            "Epoch 00019: loss did not improve from 0.79787\n",
            "64.25162148475647\n"
          ],
          "name": "stdout"
        }
      ]
    },
    {
      "cell_type": "code",
      "metadata": {
        "id": "zu4j2oy-jIQ8",
        "colab": {
          "base_uri": "https://localhost:8080/"
        },
        "outputId": "9e68eddb-fc04-4bb6-84b2-87030cbbe588"
      },
      "source": [
        "maxlen = 40 #longitud de los carácteres con los que entrenamos\n",
        "output_len = 400 #salida máxima del texto, se puede modificar son problemas\n",
        "temperatura = 0.2 #hiperparámetro que -filtra- la señal de las predicciones una vez realizadas\n",
        "\n",
        "#elijo un index al azar:\n",
        "start_index = random.randint(0, len(text) - maxlen - 1)\n",
        "\n",
        "print(f'**start index: {start_index}**')\n",
        "print()\n",
        "\n",
        "generated = \"\" #string para mis carácteres generados\n",
        "sentence = text[start_index : start_index + maxlen] #elijo la semilla del texto\n",
        "\n",
        "print('...Generating with seed: \"' + sentence + '\"')\n",
        "print()\n",
        "\n",
        "for i in range(output_len):\n",
        "    x_pred = np.zeros((1, maxlen, len(chars)))\n",
        "    for t, char in enumerate(sentence):\n",
        "        x_pred[0, t, char_indices[char]] = 1.0 #codifica el mensaje elegido \n",
        "    preds = model.predict(x_pred, verbose=0)[0] #lo pasa al predictor y lo predice esto nos regresa una matriz de 1x78\n",
        "    # print('preds', preds, preds.shape)\n",
        "    next_index = sample(preds, temperatura) #decodifica la predicción\n",
        "    # print('next_index', next_index)\n",
        "    next_char = indices_char[next_index] # obtenemos el caracter\n",
        "    # print('next_char', next_char)\n",
        "    sentence = sentence[1:] + next_char #damos el siguiente caracter a la sentencia para seguir en el for loop\n",
        "\n",
        "    generated += next_char #se lo pegamos a la secuencia que predecimos\n",
        "\n",
        "print(\"...Generated: \", generated)\n",
        "print()\n",
        "\n",
        "print('...Original: ', text[start_index+40:start_index+400])\n",
        "print()"
      ],
      "execution_count": null,
      "outputs": [
        {
          "output_type": "stream",
          "text": [
            "**start index: 135798**\n",
            "\n",
            "...Generating with seed: \"tre sueños me acordé de quién era ella. \"\n",
            "\n",
            "...Generated:  yo no se ve a algo aquella perdia por eso es que parecía en el cielo espinador al corral sino por eso pedió la cara lo mirabador la puerta del camino de prisa. para qué viera un pueblo, con la iglesia s como si se estuvo ganado. ellos se dieron por una buena caballos, de otra vez la manos en el cielilo. el oscuera bajar y hacía entretes. en seguido el camino era como tiemposo para eso de la bordad\n",
            "\n",
            "...Original:  volví a sentir el agua fría de la tormenta que estaba cayendo sobre telcampana, esa noche que entramos allí y arra samos el pueblo. casi estaba seguro de que su padre era aquel viejo al que le dimos su aplaque cuando ya íbamos de salida; al que alguno de nosotros le descerrajó un tiro en la cabeza mientras yo me echaba a su hija sobre la silla del caballo y \n",
            "\n"
          ],
          "name": "stdout"
        }
      ]
    },
    {
      "cell_type": "markdown",
      "metadata": {
        "id": "hfHOYhauSlDi"
      },
      "source": [
        "## Los resultados "
      ]
    },
    {
      "cell_type": "markdown",
      "metadata": {
        "id": "9CIympiZaDR5"
      },
      "source": [
        "Notemos que los datos obtenidos a partir de esta máquina son satisfactorios, pues además de poder predecir el siguiente carácter de una la palabra, con respecto al texto original, también logra aprender un poco acerca de la forma en que las oraciones se forman, aquí unas muestras de lo que es posible obtener con los hiperparámetros seleccionados: "
      ]
    },
    {
      "cell_type": "markdown",
      "metadata": {
        "id": "NYHQTlDnBSLE"
      },
      "source": [
        "### Entrenando con 100 épocas, temperatura = 0.07"
      ]
    },
    {
      "cell_type": "markdown",
      "metadata": {
        "id": "UscOPwI6BY0G"
      },
      "source": [
        "**start index: 169550**\n",
        "\n",
        "...Generating with seed: \"trás de su madre río abajo. si así fue, \"\n",
        "\n",
        "...Generated:  porque no se puede. s; mel vió a la cosa que no se puede saber de haberse desde acuerdada que yo no se se puede. meevolverá es algo a milar a creces. y de volver a decir la mancha de la noche. está guandroñados, porque yo hay nada. ¿de qué no me mos dí miseto? si oyes. me vi la mara arrayán de mujere. te volvía a nosotros. me acotoló por si no ensentara más pelque yo no se pos su media venir lo ma\n",
        "\n",
        "...Original:  que dios los ampare a los dos. la apuración que tienen en mi casa es lo que pueda suceder el día de mañana, ahora que mi hermana tacha se quedó sin nada. porque mi papá con muchos trabajos había conseguido a la serpentina, desde que era una vaquilla, para dársela a mi hermana, con el fin de que ella tuviera un capitalito y no se fuera a ir de piruja como lo \n",
        "\n",
        "**start index: 183944**\n",
        "\n",
        "...Generating with seed: \" sus trapos a secar. lo vi que temblaba \"\n",
        "\n",
        "...Generated:  la campañarse a la comederada como si se le había de tantar en el sol de mi madrina de todo es que se le va a ni me andará fue que la plate a mi no ha de ningún hinco ni en santario para que se lo había en el pesejo. y de todo es lo que se le acondáramos que se le deban la carab de la berdada de todo la paredo de los compedos y se la volví a term¡arde a saber de mi casa barranca y que siguió mis p\n",
        "\n",
        "...Original:  de frío. hacía aire y estaba nublado. me estuve asomando desde el boquete de la cerca donde me tenía el patrón al encargo de sus borregos. volvía y miraba a aquel hombre sin que él se maliciara que alguien lo estaba espiando. se apalancó en sus brazos y se estuvo estirando y aflojando su humanidad, dejando orear el cuerpo para que se secara. luego se enjaret\n",
        "\n",
        "**start index: 33215**\n",
        "\n",
        "...Generating with seed: \"ces que te llamabas? nieves... me sigo l\"\n",
        "\n",
        "...Generated:  o que se le acordarían tan benecién. el comer de la noche. el comprdolo de que no se alimparaba de todo es que se le va a ni me andará fue que la plate a mi no ha de ningún ocamos con hacer a la comedera de la media luna. y lo vi lo mande a la solención al parezo del río y la puede cosa encerra como si se lleva de la noche. sin despertar de todos para ver y sacordar la puede con el conteste que no\n",
        "\n",
        "...Original:  lamando nieves. nieves garcía. y no me hagas llorar, lucas lucatero. nada más de acordarme de tus melosas promesas me da coraje. nieves... nieves. cómo no me voy a acordar de ti. si eres de lo que no se olvida... eras suavecita. me acuerdo. te siento todavía aquí en mis brazos. suavecita. blanda. el olor del vestido con que salías a verme olía a alcanfor. y \n",
        "\n"
      ]
    },
    {
      "cell_type": "markdown",
      "metadata": {
        "id": "mcXq7fjbEGSY"
      },
      "source": [
        "### Entrenando con 100 épocas temperatura = 0.09"
      ]
    },
    {
      "cell_type": "markdown",
      "metadata": {
        "id": "1IN_EarCEMoK"
      },
      "source": [
        "**start index: 224536**\n",
        "\n",
        "...Generating with seed: \"sos días, porque en zapotlán estaban que\"\n",
        "\n",
        "...Generated:   se le parecía en sus ambollos. después singuna toda se sentir que no me llevando a decirles que se le premiró en la media luna más a la cosmiguana. a nada más de todos para ver como si se lo había con un puedena como si se le había de tantar en el costar y son para allá de volver de allí a despertar la mano y con su fristo por que la puerta sueño se fuera de la noche. entonces se le ocurraba la m\n",
        "\n",
        "...Original:  mando cohetes, mientras que por el rumbo donde tiré a remigio se levantaba una gran parvada de zopilotes a cada tronido que daban los cohetes. de eso me acuerdo. vine a comala porque me dijeron que acá vivía mi padre, un tal pedro páramo. mi madre me lo dijo. y yo le prometí que vendría a verlo en cuanto ella muriera. le apreté sus manos en señal de que lo h\n",
        "\n",
        "**start index: 147120**\n",
        "\n",
        "...Generating with seed: \"se más malo. llegó un rato en que ya no \"\n",
        "\n",
        "...Generated:  nos traía seguía ospuestado. porque eso ni me a una guandada, sin nosotros que se le debaba en el pueblo. y yo no se supo ni cen, al menos el sol se quedó mi papá la grita grisa. y yo te va a ni sin salto de mi casa apoco, porque en la noche a como si se le había de tantar a la comederando para nosotros ya no se se le ocurría en seguida como si se la buena vez el paredo de la media luna. y lo vi l\n",
        "\n",
        "...Original:  quería seguir. la carne de sus pies se había reventado y por la reventazón aquella empezó a salírsele la sangre. lo cuidamos hasta que se puso bueno. pero, así y todo, ya no quería seguir: me quedaré aquí sentado un día o dos y luego me volveré a zenzontla. eso nos dijo. pero natalia y yo no quisimos. había algo dentro de nosotros que no nos dejaba sentir ni\n",
        "\n",
        "**start index: 293481**\n",
        "\n",
        "...Generating with seed: \"quiere que se sepa. ¿ que adónde fue? de\"\n",
        "\n",
        "...Generated:   querirle saber de mi cuballeates. la manco se la parecía de reconocel; la menosiando de su caraba. no se fueran a nadarlas, acabar sus palles, amarrando el río de la media luna. y lo vi lo mande a la secoser que no volvían a despatraban el cuerpo. de su medio y no estaba para no te amarra y yo no se supo ni algún impo muerto es de mi mara de guarda le anguniglas mismo bien de la media luna grando\n",
        "\n",
        "...Original:   seguro a buscar un becerro cimarrón que anda por ahi desbalagado. al menos eso me dijo. ¿cuánto hace que están ustedes aquí? desde siempre. aquí nacimos. debieron conocer a dolores preciado. tal vez él, donis. yo sé tan poco de la gente. nunca salgo. aquí donde me ve, aquí he estado sempiternamente... bueno, ni tan siempre. sólo desde que él me hizo mujer. \n",
        "\n"
      ]
    },
    {
      "cell_type": "markdown",
      "metadata": {
        "id": "BbbmW0GRAo_H"
      },
      "source": [
        "### Entrenando con 100 épocas, temperatura = 0.1"
      ]
    },
    {
      "cell_type": "markdown",
      "metadata": {
        "id": "Qzb6bEcLIlCR"
      },
      "source": [
        "\n",
        "\n",
        "**start index:  147726**\n",
        "\n",
        "...Generating with seed: \"le deshincharan, le daba ánimos. le decí\"\n",
        "\n",
        "...Generated:  a a la cara la cosa se deshabranda de la misma tara misma...... peíce lo hasta es toda me le pudieron de mi casa, con esos arriban de muchas de mi madrean desde arriba. y lo había dicho: nositas sípanzando hasta la cara de la tierra y les debía a todos de su casa. y eso nos mancha como si se descansada hasta irá por el camino. era estuviera de haber andado esta esta comer. me dije que no se fueran\n",
        "\n",
        "...Original: ba los pies con aguardiente para que se le deshincharan, le daba ánimos. le decía que sólo la virgen de talpa lo curaría. ella era la única que podía hacer que él se aliviara para siempre. ella nada más. había otras muchas vírgenes; pero sólo la de talpa era la buena. eso le decía natalia. y entonces tanilo se ponía a llorar con lágrimas que hacían surco entre el sudor de su cara y después se maldecía por haber sido malo. natalia le lim\n",
        "\n",
        "**start index:  34711**\n",
        "\n",
        "...Generating with seed: \"a platicar con ella nomás por pasar el r\"\n",
        "\n",
        "...Generated:  ío y se levanta abajo, la cara la cara la cara la cara la cara la cara la cara la cara la cara la cara la cara la cara la cara la cara la cara la cara la cara la cara la cara la cara la cara la cara la cara la cara la cara la cara la cara la cara la cara la cara la cara la cara la cara la cara la cara la cara la cara la cara la cara la cara la cara la cara la cara la cara la cara la cara la cara l\n",
        "\n",
        "...Original: i, se fue. la hiciste llorar. sólo quería platicar con ella nomás por pasar el rato. ¿se han fijado cómo tarda en llover? allá en amula ya debe haber llovido, ¿no? si, anteayer cayó un aguacero. no cabe duda de que aquel es un buen sitio. llueve bien y se vive bien. a fe que aquí ni las nubes se aparecen. ¿todavía es rogaciano el presidente municipal? si, todavía. buen hombre ese rogaciano. no. es un maldoso. puede que tengan razón. ¿y \n",
        "\n",
        "**start index:  205040**\n",
        "\n",
        "...Generating with seed: \" es que el llano, señor delegado... son \"\n",
        "\n",
        "...Generated:  esperando lo hubiera de haber de haber vendo a la mancha y caminaba de la media la cabal es un modo que le dije: se le había pusidado con sus manos de la cara la cosa se de cara y reconvando de comer para no estar encima de zantlo, con el recorro de la media luna y entretá de la mesa de todo. yo mañana no? porque eso no se digo parecía. yo me llano para eso de verda síque un chacho los costas para\n",
        "\n",
        "...Original: tener tanto terreno para ustedes solos. es que el llano, señor delegado... son miles y miles de yuntas. pero no hay agua. ni siquiera para hacer un buche hay agua. ¿y el temporal? nadie les dijo que se les iba a dotar con tierras de riego. en cuanto allí llueva, se levantará el maíz como si lo estiraran. pero, señor delegado, la tierra está deslavada, dura. no creemos que el arado se entierre en esa como cantera que es la tierra del ll\n",
        "\n",
        "\n",
        "\n"
      ]
    },
    {
      "cell_type": "markdown",
      "metadata": {
        "id": "L6ymoe-_Ar8r"
      },
      "source": [
        "### Entrenando con 100 épocas, temperatura = 0.5\n"
      ]
    },
    {
      "cell_type": "markdown",
      "metadata": {
        "id": "1_d8_ZzDKAHp"
      },
      "source": [
        "\n",
        "**start index:  36011**\n",
        "\n",
        "...Generating with seed: \"erro y desaparecer.¡viejas infelices! ¿y\"\n",
        "\n",
        "...Generated:  a no lo se abajo es sueño de calle salido en un chapallizos en la buena y no se digo nin hasta me dijo. ¿la dinerá no. la mancha comenzó a las falcas a despeés. en ese llegó aguando de comer en mi casa y de todo es pedro zamora, por eso me voy n espertrajió: ¡costemos este llena. hasta no se decía. no pensé que dice? no. no puede se humo. . y allí también, como si sus cosas cuentaates de las pues \n",
        "\n",
        "...Original: corral.salirme por la puerta que da al cerro y desaparecer.¡viejas infelices! ¿y qué diantres voy a hacer yo a amula? queremos que nos acompañes en nuestros ruegos. hemos abierto, todas las congregantes del niño anacleto, un novenario de rogaciones para pedir que nos lo canonicen. tú eres su yerno y te necesitamos para que sirvas de testimonio. el señor cura nos encomendó le lleváramos a alguien que lo hubiera tratado de cerca y conocid\n",
        "\n",
        "**start index:  61929**\n",
        "\n",
        "...Generating with seed: \"rezarse. te llevaré a tonaya. bájame. su\"\n",
        "\n",
        "...Generated:  s no tantando que tiempo se deshabrando que lo días ganas. se le pusba al mismo se les acarraba de mi canció de la mesa saberia de todas para parece hasta allá a decirle que te llevamos con este esperanza.anda para tan triste. y eso pasó. ya. apreví me va a misma resalida en el cerro. no se tenimos me dijo. ¿te pesandes estaría como se les debía con la cara la haber radado de pazcula de la cara la\n",
        "\n",
        "...Original: dos o tres pasos de lado y volvió a enderezarse. te llevaré a tonaya. bájame. su voz se hizo quedita, apenas murmurada: quiero acostarme un rato. duérmete allí arriba. al cabo te llevo bien agarrado. la luna iba subiendo, casi azul, sobre un cielo claro. la cara del viejo, mojada en sudor, se llenó de luz. escondió los ojos para no mirar de frente, ya que no podía agachar la cabeza agarrotada entre las manos de su hijo. todo esto que ha\n",
        "\n",
        "**start index:  239746**\n",
        "\n",
        "...Generating with seed: \"puedo alcanzarte ni verte y adonde no ll\"\n",
        "\n",
        "...Generated:  evará pernos conmigo, con eso pasa, mironerondo para todos en el pellen que de el pedazolado estuviera en el cielo. de contra la cara la cara la paredera; pero se la veniran las cosas como si asustó les desha? como es uste. yo teníamos más cosas vez los mandos que está por mi madrinte en canciñada en el cielo. de contra la cambia con tierra... ¡viejas se dejó. nos tenenmes, no parecía mal de la ca\n",
        "\n",
        "...Original:  s de su divina providencia, donde yo no puedo alcanzarte ni verte y adonde no llegan mis palabras. abuela, el molino no sirve, tiene el gusano roto. esa micaela ha de haber molido molcates en él. no se le quita esa mala costumbre; pero en fin, ya no tiene remedio. ¿ por qué no compramos otro? éste ya de tan viejo ni servía. dices bien. aunque con los gastos que hicimos para enterrar a tu abuelo y los diezmos que le hemos pagado a la igl\n",
        "\n",
        "**start index: 57551**\n",
        "\n",
        "...Generating with seed: \"ervido haberlos visto. entonces han de h\"\n",
        "\n",
        "...Generated:  aber de haber vendo a apor cómo entrado en el cielo. se manchó con él. no había pasado a la mantarla ese cuando nos dijeron de la penazó para nada. me dijo en el pueblo. me abriento de sí, morirse con el del sol. uste lo hubiera de haber de haber ver aquel cosas pidió de mi cuarto y nos carió por allí no podrá dije: así ve ninuje, anida en la luz. el pasa de caminar. y lo mandó que nos ocupiba en \n",
        "\n",
        "...Original:  , paisano’. aunque de nada nos hubiera servido haberlos visto. entonces han de haber sido los apaches. ¿cuáles apaches? pos unos que así les dicen y que viven del otro lado. ¿pos que no están las tejas del otro lado? sí, pero está llena de apaches, como no tienes una idea. les voy a hablar a ojinaga para que recojan a tu amigo y tú prevente pa que regreses a tu tierra. ¿de dónde eres? no debías de haber salido de allá.¿tienes dinero? le\n",
        "\n",
        "\n",
        "\n"
      ]
    },
    {
      "cell_type": "markdown",
      "metadata": {
        "id": "UB8aeHDBAxpS"
      },
      "source": [
        "### Entrenando con 100 épocas, temperatura = 0.7"
      ]
    },
    {
      "cell_type": "markdown",
      "metadata": {
        "id": "oPg2qBNEM50L"
      },
      "source": [
        "\n",
        "**start index: 205049**\n",
        "\n",
        "...Generating with seed: \"l llano, señor delegado... son miles y m\"\n",
        "\n",
        "...Generated:  al de aldrencho para hacerle carnando la cambia nada de misma..... pedre pel. pero no, pero señor contiándo en un rato. y algo que me del correro. me llevaba un pronto se oían la cara muriera. y el de arriba a mi madre se disvino de contarracirno con el mono del río, y le digo un chupa de pezcallo dice que si a una tambiacida de mediado a pedrerse pinieran. las torme, en este cosa que me está agra\n",
        "\n",
        "...Original:  el llano, señor delegado... son miles y miles de yuntas. pero no hay agua. ni siquiera para hacer un buche hay agua. ¿y el temporal? nadie les dijo que se les iba a dotar con tierras de riego. en cuanto allí llueva, se levantará el maíz como si lo estiraran. pero, señor delegado, la tierra está deslavada, dura. no creemos que el arado se entierre en esa como cantera que es la tierra del llano. habr\n",
        "\n",
        "**start index: 161574**\n",
        "\n",
        "...Generating with seed: \"mbién en subir al tapanco, para deshacer\"\n",
        "\n",
        "...Generated:  le que le trató de tristezas y yo no se puede. me debejeos. de eso de uno en mi cuerta de mado de su medio de armibir, a que a mí me deja que no lo voy a dará esfuerzo. por el campestondo sin despertar donde venían mos deja a los lamos si de mis trapas.do de podo el sol, cuando el termando con sus ojicio. la gente nomás sustros. era más pelquita de guardo como una cobija y no nos ramaba un tar all\n",
        "\n",
        "...Original:  ambién en subir al tapanco, para deshacer la cama donde él y margarita habían pasado la noche. si el señor cura autorizara esto, yo me casaría con ella pero estoy seguro de que armará un escándalo si se lo pido. dirá que es un incesto y nos excomulgará a los dos. más vale dejar las cosas en secreto. en eso iba pensando cuando se encontró al viejo esteban peleándose con el becerro, metiendo sus mano\n",
        "\n",
        "**start index: 110212**\n",
        "\n",
        "...Generating with seed: \"nta de la hora en que ellos aparecieron \"\n",
        "\n",
        "...Generated:  a la secosa de la orilla, y yo no se acondábamos a nuestros, que se la había nadre. hasta a dar de todo y contesté que eso no le malimaba si silo. y la vi al soldado que no erse ni uno edo caminonado como si oyó del día como si lo hubieran encindo un tejado de morido a salgo de santas como y se nos contaran, pero después de todo para saber de prendizavenir ese desde mirada con mi muy gender con su\n",
        "\n",
        "...Original:  enta de la hora en que ellos aparecieron por allí. cuando menos acordamos aquí estaban ya, mero enfrente de nosotros, todos desguarnecidos. parecían ir de paso, ajuareados para otros apuros y no para éste de ahorita. nos dimos vuelta y los miramos por la mira de las troneras. pasaron los primeros, luego los segundos y otros más, con el cuerpo echado para adelante, jorobados de sueño. les relumbraba\n",
        "\n"
      ]
    },
    {
      "cell_type": "markdown",
      "metadata": {
        "id": "7JgNtSVEA5uL"
      },
      "source": [
        "### Entrenando con 100 épocas, temperatura = 1.2\n"
      ]
    },
    {
      "cell_type": "markdown",
      "metadata": {
        "id": "o3Md13Jy_01m"
      },
      "source": [
        "\n",
        "**start index: 125216**\n",
        "\n",
        "...Generating with seed: \"dministrador y el caporal de la hacienda\"\n",
        "\n",
        "...Generated:   solaban su poco y les digo: sien niman, meevos, apecada? cómo lo llevaba el melilla balpa para de mancla. y el rumbo de los trepando abajor y yo no le gustá resgusto, chimo quedanos trechas bajaba: no me sabía como si fueran sus a uno del quellos ientes. unos últimos con gitar la noche. mi huecengueste que no había sedomate a la noches. el pel simo cobocupadado a miro trancando el día lo lejos cr\n",
        "\n",
        "...Original:  administrador y el caporal de la hacienda. fueron dos días de toros. tuvimos que hacer un corralito redondo como esos que se usan para encerrar chivas, para que sirviera de plaza. y nosotros nos sentamos sobre las trancas para no dejar salir a los toreros, que corrían muy fuerte en cuanto veían el verduguillo con que los quería cornear pedro zamora. los ocho soldaditos sirvieron para una tarde. los\n",
        "\n",
        "**start index: 261684**\n",
        "\n",
        "...Generating with seed: \"acias a dios nuestro señor porque se lo \"\n",
        "\n",
        "...Generated:  había carremando la solla el que las encerdades de más allá umo, porque se hita estaba aileron de sueltos; otro largo del zamarecer, el como de lo en embol que me la que me zala y yo llegó de sus muertos tan guyas que le gustaba la seguntina de sentenido. pero no; pero diocí paso ilencio no nos congarna. todos los otros; despertiándose un trapño, earcio, como si se olabía encima como y aunque tení\n",
        "\n",
        "...Original:  racias a dios nuestro señor porque se lo ha llevado de esta tierra donde causó tanto mal, no importa que ahora lo tenga en su cielo. un caballo pasó al galope donde se cruza la calle real con el camino de contla. nadie lo vio. sin embargo, una mujer que esperaba en las afueras del pueblo contó que había visto el caballo corriendo con las piernas dobladas como si se fuera a ir de bruces. reconoció e\n",
        "\n",
        "**start index: 118665**\n",
        "\n",
        "...Generating with seed: \" montón de rifles como si fuera una male\"\n",
        "\n",
        "...Generated:  nte como y de sacarlo; la única judada en el ricaso del sol. no existe. sólo estabía estar frente la oía allá de voquilinas. si no le pagé un trombiés en el colerlo . buscando un gajanblaba a llenarte en miedos. y darme y có que lo noche an mi hijo. lo hubiera dor penadarnos, se fueron gritos de pobjarlo. tercios y todavía ciudo el deciénte lo que día por el jur amanero; la llama replatar de fin j\n",
        "\n",
        "...Original:  n montón de rifles como si fuera una maleta. se apeó del macho. nos repartió las carabinas y volvió a hacer la maleta con las que le sobraban. si no tienen nada urgente que hacer de hoy a mañana, pónganse listos para salir a san buenaventura. allí los está aguardando pedro zamora. en mientras, yo voy un poquito más abajo a buscar a los zanates. luego volveré. al día siguiente volvió, ya de atardeci\n",
        "\n",
        "\n"
      ]
    },
    {
      "cell_type": "markdown",
      "metadata": {
        "id": "U0_ccPJq_YBJ"
      },
      "source": [
        "## Comentarios"
      ]
    },
    {
      "cell_type": "markdown",
      "metadata": {
        "id": "Ta_pVrwpajzP"
      },
      "source": [
        "Aunque es verdad que los resultados son satisfactorios, no hace falta mencionar que las palabras formadas en la predicción no tienen mucha coherencia, esto se debe a que el algoritmo no aprende acerca del **contexto de las palabras**, pero sí del **contexto de los carácteres**. Por esto mismo, podemos ver que el algoritmo aprende a formar palabras que tienen sentido dentro de nuestra lengua como `pudieron`, `descansada`, `levanta` y otras que incluso parecen ser palabras verdaderas como `enciñada`, `pesandes` y `madrinte`, esta cualidad lejos de ser vista como un defecto me parece desde otro punto de vista interesante, ¿cómo sabemos que una palabra existe o nos parece familiar sin si quiera saber que existe? \n",
        "\n",
        "Para mejorar este algoritmo yo propongo entrar dentro de la estructura de la LSTM y probar distintas configuraciones como la función de activación de la puerta o el update, así como configurar los drop internos de las capas internas, así como intentar probar el algoritmo con épocas muchísimo más altas, lo cual es posible si se cuenta con un equipo lo suficientemente bueno. "
      ]
    },
    {
      "cell_type": "markdown",
      "metadata": {
        "id": "uF2-oICvSXpD"
      },
      "source": [
        "### Biografía: \n",
        "\n",
        "Brownlee J. Machine Learning Mastery. Text Generation With LSTM Recurrent Neural Networks in Python with Keras, disponible en: <https://machinelearningmastery.com/text-generation-lstm-recurrent-neural-networks-python-keras/>\n",
        "\n",
        "Li F. et al, Lecture 10 | Recurrent Neural Networks, Stanford University School of Engineering, disponible en <https://www.youtube.com/watch?v=6niqTuYFZLQ&t=1056s>\n",
        "\n",
        "Sotaquirá M. ¿Qué es una red LSTM?, disponible en: <https://www.youtube.com/watch?v=1BubAvTVBYs&t=551s>\n",
        "\n",
        "\n"
      ]
    }
  ]
}