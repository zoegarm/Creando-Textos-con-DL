{
  "nbformat": 4,
  "nbformat_minor": 0,
  "metadata": {
    "colab": {
      "name": "Proyecto_LSTM_DL.ipynb",
      "provenance": [],
      "include_colab_link": true
    },
    "kernelspec": {
      "name": "python3",
      "display_name": "Python 3"
    },
    "language_info": {
      "name": "python"
    },
    "accelerator": "GPU"
  },
  "cells": [
    {
      "cell_type": "markdown",
      "metadata": {
        "id": "view-in-github",
        "colab_type": "text"
      },
      "source": [
        "<a href=\"https://colab.research.google.com/github/zoegarm/Creando-Textos-con-DL/blob/main/Proyecto_LSTM_DL.ipynb\" target=\"_parent\"><img src=\"https://colab.research.google.com/assets/colab-badge.svg\" alt=\"Open In Colab\"/></a>"
      ]
    },
    {
      "cell_type": "markdown",
      "metadata": {
        "id": "VFFF7DD3YY40"
      },
      "source": [
        "# LSTM: \n",
        "\n",
        "1. Explicación del problema a resolver (cuáles son los inputs y porqué, cual es la salida y porqué, cómo se obtuvieron y de dónde)\n",
        "\n",
        "    ``\n",
        "    Aquí presento la importancia de predecir el siguiente caracter, así como por qué elijo analizar la entrada de cada caracter en lugar de palabras, de dónde agarré los datos y cómo le hice, jeje.\n",
        "    ``\n",
        "\n",
        "2. Análisis de los datos (histogramas, visualización de una muestra tanto la entrada como la salida, normalización en caso de ser necesaria)\n",
        "\n",
        "    ``\n",
        "    Aquí presento mi bónito set de 400 000 caácteres\n",
        "    ``\n",
        "\n",
        "3. Separación de los datos (seleccionar un porcentaje para cada conjunto: train, validation y test)\n",
        "\n",
        "    ``\n",
        "    Aquí explico por qué no tengo qué separar datos... \n",
        "    ``\n",
        "\n",
        "4. Definición, Entrenamiento y Evaluación de la red neuronal\n",
        "\n",
        "    ``\n",
        "    Aquí presento mi red, la entreno y evalúo la red\n",
        "    ``\n",
        "\n",
        "5. Inferencia (usando los datos de prueba)\n",
        "\n",
        "    ``\n",
        "    Aquí hago la predicción\n",
        "    ``\n",
        "\n",
        "6. Comentario: explicar porqué se obtuvieron esos resultados\n",
        "\n",
        "    ``\n",
        "    Aquí explico mis resultados :) \n",
        "    ``\n"
      ]
    },
    {
      "cell_type": "markdown",
      "metadata": {
        "id": "Z_avdjRYYkpl"
      },
      "source": [
        "## importo dependencias"
      ]
    },
    {
      "cell_type": "code",
      "metadata": {
        "id": "sAtIRjaiinIx"
      },
      "source": [
        "import tensorflow as tf\n",
        "\n",
        "# physical_devices = tf.config.experimental.list_physical_devices('GPU')\n",
        "# print(\"physical_devices-------------\", len(physical_devices))\n",
        "# tf.config.experimental.set_memory_growth(physical_devices[0], True)\n",
        "\n",
        "import tensorflow as tf\n",
        "from tensorflow import keras\n",
        "from tensorflow.keras.models import Sequential\n",
        "from tensorflow.keras.layers import Dense, BatchNormalization\n",
        "from tensorflow.keras.layers import Input, Flatten, LSTM, Dropout\n",
        "from tensorflow.keras.callbacks import ModelCheckpoint, LearningRateScheduler\n",
        "from tensorflow.keras.callbacks import EarlyStopping\n",
        "\n",
        "\n",
        "from tensorflow.keras.utils import plot_model\n",
        "\n",
        "import numpy as np\n",
        "import os\n",
        "\n",
        "import numpy as np\n",
        "import random\n",
        "import matplotlib.pyplot as plt\n",
        "import seaborn as sns\n",
        "\n",
        "\n",
        "# import time"
      ],
      "execution_count": null,
      "outputs": []
    },
    {
      "cell_type": "code",
      "metadata": {
        "colab": {
          "base_uri": "https://localhost:8080/"
        },
        "id": "B-kdjAY1iqnx",
        "outputId": "5872d3b9-5c4c-49b2-9894-74419d47fe82"
      },
      "source": [
        "from google.colab import drive\n",
        "drive.mount('/content/drive')"
      ],
      "execution_count": null,
      "outputs": [
        {
          "output_type": "stream",
          "text": [
            "Drive already mounted at /content/drive; to attempt to forcibly remount, call drive.mount(\"/content/drive\", force_remount=True).\n"
          ],
          "name": "stdout"
        }
      ]
    },
    {
      "cell_type": "code",
      "metadata": {
        "colab": {
          "base_uri": "https://localhost:8080/"
        },
        "id": "KHcAcdH1isC2",
        "outputId": "4b56653c-3bda-4790-f818-7f2725b4de8e"
      },
      "source": [
        "import io\n",
        "path = '/content/drive/MyDrive/TSFCI/Amado Nervo.txt'\n",
        "with io.open(path, encoding='utf-8') as f:\n",
        "    text = f.read().lower()\n",
        "print(len(text))"
      ],
      "execution_count": null,
      "outputs": [
        {
          "output_type": "stream",
          "text": [
            "425207\n"
          ],
          "name": "stdout"
        }
      ]
    },
    {
      "cell_type": "code",
      "metadata": {
        "colab": {
          "base_uri": "https://localhost:8080/",
          "height": 92
        },
        "id": "mziiczl2MDxe",
        "outputId": "c35bc645-289d-486a-caea-25da3d58d386"
      },
      "source": [
        "text[0:500]"
      ],
      "execution_count": 72,
      "outputs": [
        {
          "output_type": "execute_result",
          "data": {
            "application/vnd.google.colaboratory.intrinsic+json": {
              "type": "string"
            },
            "text/plain": [
              "'\\x0cdiario del doctor\\n\\n\\nel doctor abrió su diario, recorrió las páginas escritas, con mirada negligente: llegó a la última,\\nsobre la cual su atención se posó un poco más, como\\nqueriendo coger el postrer eslabón a que debe soldarse uno nuevo, y en seguida tomó la pluma.\\nen el gabinete “se oía el silencio”, un silencio dominical, un silencio de ciudad luterana en día de fiesta.\\nméxico se desbandaba hacia la reforma, hacia los\\nteatros, hacia los pueblecillos del valle, y en medinas\\ntodo era paz: una p'"
            ]
          },
          "metadata": {
            "tags": []
          },
          "execution_count": 72
        }
      ]
    },
    {
      "cell_type": "code",
      "metadata": {
        "colab": {
          "base_uri": "https://localhost:8080/"
        },
        "id": "V6YWH5bCitUt",
        "outputId": "6d1ded94-fc1d-45b1-973e-88863a78a4e4"
      },
      "source": [
        "chars = sorted(list(set(text)))\n",
        "print('total chars:', len(chars))\n",
        "char_indices = dict((c, i) for i, c in enumerate(chars)) #diccionario de caracter a indice\n",
        "indices_char = dict((i, c) for i, c in enumerate(chars)) #de indice a caracter"
      ],
      "execution_count": null,
      "outputs": [
        {
          "output_type": "stream",
          "text": [
            "total chars: 78\n"
          ],
          "name": "stdout"
        }
      ]
    },
    {
      "cell_type": "code",
      "metadata": {
        "id": "27I29OmZi8N_"
      },
      "source": [
        "sentences = []\n",
        "next_chars = []\n",
        "for i in range(0, len(text) - 40, 3):\n",
        "    sentences.append(text[i: i + 40]) #listas de longitud 40\n",
        "    next_chars.append(text[i + 40])   #lista del siguiente caracter en la lista\n",
        "\n",
        "# otra version de one hot encoding con bool:\n",
        "x = np.zeros((len(sentences), 40, len(chars)), dtype=np.int)\n",
        "y = np.zeros((len(sentences), len(chars)), dtype=np.int)\n",
        "for i, sentence in enumerate(sentences):\n",
        "    for t, char in enumerate(sentence):\n",
        "        x[i, t, char_indices[char]] = 1       #lista que tiene el índice de la sentencia, el índice de caracter en la sentencia y el índice del caracter en el diccionario\n",
        "    y[i, char_indices[next_chars[i]]] = 1   #lista con índice de sentencia en el diccionario con respecto al siguiente caracter"
      ],
      "execution_count": null,
      "outputs": []
    },
    {
      "cell_type": "code",
      "metadata": {
        "id": "ly1jkLYFuvOe",
        "colab": {
          "base_uri": "https://localhost:8080/"
        },
        "outputId": "614bb78a-91c1-4ff4-bfbd-47f7dc9ff4c9"
      },
      "source": [
        "# Creates a model given an activation and learning rate\n",
        "\n",
        "learning_rate = 0.01\n",
        "opt = keras.optimizers.RMSprop(lr=learning_rate)\n",
        "\n",
        "model_save = ModelCheckpoint('best_model.hdf5', save_best_only = True)\n",
        "early_stopping = EarlyStopping(monitor = 'loss', patience= 5)\n",
        "\n",
        "def create_model(learning_rate, opt = opt):\n",
        "  \n",
        "  model = Sequential()\n",
        "  model.add(LSTM(128, input_shape=(40, len(chars))))\n",
        "  model.add(BatchNormalization()) #extra\n",
        "  model.add(Dropout(0.2)) #extra\n",
        "\n",
        "  model.add(Dense(len(chars), activation='softmax'))\n",
        "\n",
        "  #opt = keras.optimizers.RMSprop(lr=learning_rate)\n",
        "  model.compile(loss='categorical_crossentropy', optimizer=opt, metrics = ['accuracy'])\n",
        "\n",
        "\n",
        "  return model"
      ],
      "execution_count": null,
      "outputs": [
        {
          "output_type": "stream",
          "text": [
            "/usr/local/lib/python3.7/dist-packages/tensorflow/python/keras/optimizer_v2/optimizer_v2.py:375: UserWarning: The `lr` argument is deprecated, use `learning_rate` instead.\n",
            "  \"The `lr` argument is deprecated, use `learning_rate` instead.\")\n"
          ],
          "name": "stderr"
        }
      ]
    },
    {
      "cell_type": "code",
      "metadata": {
        "id": "KsLfZmdD-zz0"
      },
      "source": [
        "model = create_model(0.01, opt=opt)"
      ],
      "execution_count": null,
      "outputs": []
    },
    {
      "cell_type": "code",
      "metadata": {
        "colab": {
          "base_uri": "https://localhost:8080/",
          "height": 533
        },
        "id": "WTpu6bb-jCLi",
        "outputId": "d5e8e003-eb62-4451-a9fd-6737bdf97e50"
      },
      "source": [
        "plot_model(model, show_shapes=True, expand_nested=True, show_layer_names=True)"
      ],
      "execution_count": null,
      "outputs": [
        {
          "output_type": "execute_result",
          "data": {
            "image/png": "[encoded data removed]",
            "text/plain": [
              "<IPython.core.display.Image object>"
            ]
          },
          "metadata": {
            "tags": []
          },
          "execution_count": 63
        }
      ]
    },
    {
      "cell_type": "markdown",
      "metadata": {
        "id": "ltrkKOOg_c6g"
      },
      "source": [
        "Refino mis hiperparámetros"
      ]
    },
    {
      "cell_type": "code",
      "metadata": {
        "colab": {
          "base_uri": "https://localhost:8080/"
        },
        "id": "d6MPRiqQH5Yq",
        "outputId": "b6b5bc67-8561-44a2-bc7d-9caf5dc3e90f"
      },
      "source": [
        "opt_list = [tf.keras.optimizers.Adam(lr = learning_rate), tf.keras.optimizers.Adamax(lr=learning_rate),\n",
        "            tf.keras.optimizers.SGD(lr = learning_rate), keras.optimizers.RMSprop(lr=learning_rate)]"
      ],
      "execution_count": null,
      "outputs": [
        {
          "output_type": "stream",
          "text": [
            "/usr/local/lib/python3.7/dist-packages/tensorflow/python/keras/optimizer_v2/optimizer_v2.py:375: UserWarning: The `lr` argument is deprecated, use `learning_rate` instead.\n",
            "  \"The `lr` argument is deprecated, use `learning_rate` instead.\")\n"
          ],
          "name": "stderr"
        }
      ]
    },
    {
      "cell_type": "code",
      "metadata": {
        "id": "uoTunVAvjDm6"
      },
      "source": [
        "def sample(preds, temperature=1.0):\n",
        "    preds = np.asarray(preds).astype('float64')\n",
        "    preds = np.log(preds) / temperature\n",
        "    exp_preds = np.exp(preds)\n",
        "    preds = exp_preds / np.sum(exp_preds)\n",
        "    probas = np.random.multinomial(1, preds, 1)\n",
        "    return np.argmax(probas)"
      ],
      "execution_count": null,
      "outputs": []
    },
    {
      "cell_type": "markdown",
      "metadata": {
        "id": "NhpTKYWkYSKN"
      },
      "source": [
        "# Entrenando y haciendo predicciones: "
      ]
    },
    {
      "cell_type": "code",
      "metadata": {
        "colab": {
          "base_uri": "https://localhost:8080/"
        },
        "id": "zu4j2oy-jIQ8",
        "outputId": "a6d901f4-e2c3-49ad-e22f-274c07fe1a79"
      },
      "source": [
        "epochs = 5\n",
        "batch_size = 128\n",
        "maxlen = 40\n",
        "step = 3\n",
        "output_len = 400\n",
        "temperatura = 0.1\n",
        "\n",
        "#entrenamiento\n",
        "h_call = model.fit(x, y, batch_size=batch_size, epochs=epochs, validation_split=0.1)\n",
        "\n",
        "#elijo un index al azar:\n",
        "start_index = random.randint(0, len(text) - maxlen - 1)\n",
        "print('start index: ', start_index)\n",
        "\n",
        "\n",
        "generated = \"\"\n",
        "sentence = text[start_index : start_index + maxlen]\n",
        "print('...Generating with seed: \"' + sentence + '\"')\n",
        "\n",
        "for i in range(output_len):\n",
        "    x_pred = np.zeros((1, maxlen, len(chars)))\n",
        "    for t, char in enumerate(sentence):\n",
        "        x_pred[0, t, char_indices[char]] = 1.0 #codifica el mensaje elegido \n",
        "    preds = model.predict(x_pred, verbose=0)[0] #lo pasa al predictor y lo predice esto nos regresa una matriz de 1x78\n",
        "    # print('preds', preds, preds.shape)\n",
        "    next_index = sample(preds, temperatura) #decodifica la predicción\n",
        "    # print('next_index', next_index)\n",
        "    next_char = indices_char[next_index] # obtenemos el caracter\n",
        "    # print('next_char', next_char)\n",
        "    sentence = sentence[1:] + next_char #damos el siguiente caracter a la sentencia para seguir en el for loop\n",
        "\n",
        "    generated += next_char #se lo pegamos a la secuencia que predecimos\n",
        "\n",
        "print(\"...Generated: \", generated)\n",
        "print()"
      ],
      "execution_count": null,
      "outputs": [
        {
          "output_type": "stream",
          "text": [
            "Epoch 1/5\n",
            "997/997 [==============================] - 13s 11ms/step - loss: 2.2914 - accuracy: 0.3145 - val_loss: 2.0982 - val_accuracy: 0.3601\n",
            "Epoch 2/5\n",
            "997/997 [==============================] - 10s 10ms/step - loss: 2.0818 - accuracy: 0.3739 - val_loss: 1.9266 - val_accuracy: 0.4025\n",
            "Epoch 3/5\n",
            "997/997 [==============================] - 10s 10ms/step - loss: 1.9572 - accuracy: 0.4145 - val_loss: 1.8630 - val_accuracy: 0.4344\n",
            "Epoch 4/5\n",
            "997/997 [==============================] - 10s 10ms/step - loss: 1.8813 - accuracy: 0.4387 - val_loss: 1.7916 - val_accuracy: 0.4621\n",
            "Epoch 5/5\n",
            "997/997 [==============================] - 10s 10ms/step - loss: 1.8271 - accuracy: 0.4549 - val_loss: 1.7685 - val_accuracy: 0.4683\n",
            "start index:  208816\n",
            "...Generating with seed: \"luz intermitente del faro del balneario.\"\n",
            "...Generated:   la mantando de la concida de la vida de la mismo a su consinta la consinta de la vida de la consinta de la vida de la vida de la mano de la vida de la mantando de la mantar a la amar a la vida de la concida de la altinada de la concializa de la concida de la mandidad de la vida de la mandidad de la vida de la vida de la vida de la alma a la vida de la consinta de la vida de la altinada de la para\n",
            "\n"
          ],
          "name": "stdout"
        }
      ]
    },
    {
      "cell_type": "code",
      "metadata": {
        "id": "HSX6FkMylhYM"
      },
      "source": [
        "def plot(h_call, save = True, name = None):  \n",
        "  sns.set_style('darkgrid')\n",
        "  plt.figure(figsize=(5,4))\n",
        "\n",
        "  plt.title('Cost vs Epoch')\n",
        "  plt.ylabel('Cost')\n",
        "  plt.xlabel('Epoch')\n",
        "\n",
        "  plt.plot(h_call.history['loss'], label = 'loss', color = 'firebrick')\n",
        "  plt.plot(h_call.history['val_loss'], label = 'val_loss')\n",
        "\n",
        "  plt.legend(loc = 'upper right')\n",
        "\n",
        "  if save:\n",
        "    plt.savefig(name + 'png')\n",
        "\n",
        "  plt.show()"
      ],
      "execution_count": 70,
      "outputs": []
    },
    {
      "cell_type": "code",
      "metadata": {
        "colab": {
          "base_uri": "https://localhost:8080/",
          "height": 295
        },
        "id": "sAUT99_CW--m",
        "outputId": "75778f30-9939-4c16-f323-57a4df5a8da2"
      },
      "source": [
        "plot(h_call, save=False)"
      ],
      "execution_count": 71,
      "outputs": [
        {
          "output_type": "display_data",
          "data": {
            "image/png": "[encoded data removed]",
            "text/plain": [
              "<Figure size 360x288 with 1 Axes>"
            ]
          },
          "metadata": {
            "tags": []
          }
        }
      ]
    },
    {
      "cell_type": "markdown",
      "metadata": {
        "id": "A3DLLRZXup2s"
      },
      "source": [
        "Hiper parámetros:"
      ]
    },
    {
      "cell_type": "code",
      "metadata": {
        "id": "w4ylUmxFBPux"
      },
      "source": [
        ""
      ],
      "execution_count": null,
      "outputs": []
    }
  ]
}